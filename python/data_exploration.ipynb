{
 "cells": [
  {
   "cell_type": "code",
   "execution_count": 2,
   "id": "Ai_U40L7G_Kz",
   "metadata": {
    "colab": {
     "base_uri": "https://localhost:8080/"
    },
    "executionInfo": {
     "elapsed": 3278,
     "status": "ok",
     "timestamp": 1649406220824,
     "user": {
      "displayName": "Nicolas Delamaide",
      "userId": "10466721387330296433"
     },
     "user_tz": -120
    },
    "id": "Ai_U40L7G_Kz",
    "outputId": "8a9e9947-f181-497d-a19c-eb19526e0dab"
   },
   "outputs": [
    {
     "name": "stdout",
     "output_type": "stream",
     "text": [
      "Collecting zipfile36\n",
      "  Downloading zipfile36-0.1.3-py3-none-any.whl (20 kB)\n",
      "Installing collected packages: zipfile36\n",
      "Successfully installed zipfile36-0.1.3\n"
     ]
    }
   ],
   "source": [
    "# !pip install zipfile36"
   ]
  },
  {
   "cell_type": "code",
   "execution_count": 1,
   "id": "7419cdf4-e95b-4166-928b-f86afaaf3380",
   "metadata": {
    "colab": {
     "base_uri": "https://localhost:8080/"
    },
    "executionInfo": {
     "elapsed": 279362,
     "status": "ok",
     "timestamp": 1649406500181,
     "user": {
      "displayName": "Nicolas Delamaide",
      "userId": "10466721387330296433"
     },
     "user_tz": -120
    },
    "id": "7419cdf4-e95b-4166-928b-f86afaaf3380",
    "outputId": "32231239-1056-43b7-eb23-50dafff7d03f"
   },
   "outputs": [],
   "source": [
    "import zipfile\n",
    "import pandas as pd\n",
    "from os.path import join\n",
    "import datetime as dt\n",
    "\n",
    "data_folder = \"data/\"\n",
    "\n",
    "columns_file = [\"date\", \"county_name\", \"subject_race\", \"subject_sex\", \"search_conducted\", \"search_basis\", \"outcome\"]\n",
    "columns_df = [\"date\", \"date_dt\", \"county_name\", \"subject_race\", \"subject_sex\", \"search_conducted\", \"search_basis\", \"outcome\"]\n",
    "chunksize = 10 ** 6\n",
    "\n",
    "df_ca = pd.DataFrame(columns=columns_df)\n",
    "df_tx = pd.DataFrame(columns=columns_df)\n",
    "\n",
    "for chunk in pd.read_csv(join(data_folder, \"ca_statewide.csv.zip\"), compression='zip', usecols=columns_file, chunksize=chunksize, low_memory=False):\n",
    "  chunk.loc[chunk.search_conducted == False, \"search_basis\"] = \"no_search\"\n",
    "  chunk = chunk.dropna(subset=[\"county_name\"]) # Drop rows without county name\n",
    "  chunk.loc[:, \"outcome\"] = chunk.outcome.fillna(value=\"unknown\")\n",
    "  chunk.insert(loc=1, column=\"date_dt\", value=pd.to_datetime(chunk.date))\n",
    "  df_ca = pd.concat([df_ca, chunk], axis=0 , ignore_index=True)\n",
    "\n",
    "\n",
    "for chunk in pd.read_csv(join(data_folder, \"tx_statewide.csv.zip\"), compression='zip', usecols=columns_file, chunksize=chunksize, low_memory=False):\n",
    "  chunk.loc[chunk.search_conducted == False, \"search_basis\"] = \"no_search\"\n",
    "  chunk = chunk.dropna()\n",
    "  chunk.insert(loc=1, column=\"date_dt\", value=pd.to_datetime(chunk.date))\n",
    "  df_tx = pd.concat([df_tx, chunk], axis=0 , ignore_index=True)"
   ]
  },
  {
   "cell_type": "markdown",
   "id": "e3c8a5fb-cfd5-4a9b-898a-4b2b387b0420",
   "metadata": {
    "id": "e3c8a5fb-cfd5-4a9b-898a-4b2b387b0420",
    "tags": []
   },
   "source": [
    "## Pre-processing"
   ]
  },
  {
   "cell_type": "code",
   "execution_count": 2,
   "id": "bUwELm3pQlpj",
   "metadata": {
    "colab": {
     "base_uri": "https://localhost:8080/"
    },
    "executionInfo": {
     "elapsed": 17,
     "status": "ok",
     "timestamp": 1649406500184,
     "user": {
      "displayName": "Nicolas Delamaide",
      "userId": "10466721387330296433"
     },
     "user_tz": -120
    },
    "id": "bUwELm3pQlpj",
    "outputId": "0e85d783-50a3-4ad2-da4e-885ee73cfdb9"
   },
   "outputs": [
    {
     "name": "stdout",
     "output_type": "stream",
     "text": [
      "(31683533, 8) (25225803, 8)\n"
     ]
    }
   ],
   "source": [
    "print(df_ca.shape, df_tx.shape)"
   ]
  },
  {
   "cell_type": "markdown",
   "id": "045ddb69-dad7-423b-b8cd-cf4d47d39550",
   "metadata": {
    "id": "045ddb69-dad7-423b-b8cd-cf4d47d39550"
   },
   "source": [
    "### CA"
   ]
  },
  {
   "cell_type": "code",
   "execution_count": 3,
   "id": "f89c507a-5ccb-4c8a-af48-bdb1ab54fc56",
   "metadata": {
    "colab": {
     "base_uri": "https://localhost:8080/"
    },
    "executionInfo": {
     "elapsed": 15,
     "status": "ok",
     "timestamp": 1649406500186,
     "user": {
      "displayName": "Nicolas Delamaide",
      "userId": "10466721387330296433"
     },
     "user_tz": -120
    },
    "id": "f89c507a-5ccb-4c8a-af48-bdb1ab54fc56",
    "outputId": "0a526e80-0b05-42d6-b5ed-188a1cc44c40"
   },
   "outputs": [
    {
     "name": "stdout",
     "output_type": "stream",
     "text": [
      "<class 'pandas.core.frame.DataFrame'>\n",
      "RangeIndex: 31683533 entries, 0 to 31683532\n",
      "Data columns (total 8 columns):\n",
      " #   Column            Dtype         \n",
      "---  ------            -----         \n",
      " 0   date              object        \n",
      " 1   date_dt           datetime64[ns]\n",
      " 2   county_name       object        \n",
      " 3   subject_race      object        \n",
      " 4   subject_sex       object        \n",
      " 5   search_conducted  object        \n",
      " 6   search_basis      object        \n",
      " 7   outcome           object        \n",
      "dtypes: datetime64[ns](1), object(7)\n",
      "memory usage: 1.9+ GB\n"
     ]
    }
   ],
   "source": [
    "df_ca.info()"
   ]
  },
  {
   "cell_type": "code",
   "execution_count": 4,
   "id": "5c13f38d-4663-427c-8963-bc50a5d590ad",
   "metadata": {
    "colab": {
     "base_uri": "https://localhost:8080/",
     "height": 206
    },
    "executionInfo": {
     "elapsed": 13,
     "status": "ok",
     "timestamp": 1649406500187,
     "user": {
      "displayName": "Nicolas Delamaide",
      "userId": "10466721387330296433"
     },
     "user_tz": -120
    },
    "id": "5c13f38d-4663-427c-8963-bc50a5d590ad",
    "outputId": "c619f347-8e2f-4f78-8888-e403ee2cc92a"
   },
   "outputs": [
    {
     "data": {
      "text/html": [
       "<div>\n",
       "<style scoped>\n",
       "    .dataframe tbody tr th:only-of-type {\n",
       "        vertical-align: middle;\n",
       "    }\n",
       "\n",
       "    .dataframe tbody tr th {\n",
       "        vertical-align: top;\n",
       "    }\n",
       "\n",
       "    .dataframe thead th {\n",
       "        text-align: right;\n",
       "    }\n",
       "</style>\n",
       "<table border=\"1\" class=\"dataframe\">\n",
       "  <thead>\n",
       "    <tr style=\"text-align: right;\">\n",
       "      <th></th>\n",
       "      <th>date</th>\n",
       "      <th>date_dt</th>\n",
       "      <th>county_name</th>\n",
       "      <th>subject_race</th>\n",
       "      <th>subject_sex</th>\n",
       "      <th>search_conducted</th>\n",
       "      <th>search_basis</th>\n",
       "      <th>outcome</th>\n",
       "    </tr>\n",
       "  </thead>\n",
       "  <tbody>\n",
       "    <tr>\n",
       "      <th>0</th>\n",
       "      <td>2009-07-01</td>\n",
       "      <td>2009-07-01</td>\n",
       "      <td>Stanislaus County</td>\n",
       "      <td>other</td>\n",
       "      <td>male</td>\n",
       "      <td>False</td>\n",
       "      <td>no_search</td>\n",
       "      <td>unknown</td>\n",
       "    </tr>\n",
       "    <tr>\n",
       "      <th>1</th>\n",
       "      <td>2009-07-01</td>\n",
       "      <td>2009-07-01</td>\n",
       "      <td>Stanislaus County</td>\n",
       "      <td>hispanic</td>\n",
       "      <td>female</td>\n",
       "      <td>False</td>\n",
       "      <td>no_search</td>\n",
       "      <td>summons</td>\n",
       "    </tr>\n",
       "    <tr>\n",
       "      <th>2</th>\n",
       "      <td>2009-07-01</td>\n",
       "      <td>2009-07-01</td>\n",
       "      <td>Stanislaus County</td>\n",
       "      <td>hispanic</td>\n",
       "      <td>female</td>\n",
       "      <td>True</td>\n",
       "      <td>other</td>\n",
       "      <td>summons</td>\n",
       "    </tr>\n",
       "    <tr>\n",
       "      <th>3</th>\n",
       "      <td>2009-07-01</td>\n",
       "      <td>2009-07-01</td>\n",
       "      <td>Stanislaus County</td>\n",
       "      <td>white</td>\n",
       "      <td>female</td>\n",
       "      <td>False</td>\n",
       "      <td>no_search</td>\n",
       "      <td>summons</td>\n",
       "    </tr>\n",
       "    <tr>\n",
       "      <th>4</th>\n",
       "      <td>2009-07-01</td>\n",
       "      <td>2009-07-01</td>\n",
       "      <td>Stanislaus County</td>\n",
       "      <td>hispanic</td>\n",
       "      <td>male</td>\n",
       "      <td>True</td>\n",
       "      <td>other</td>\n",
       "      <td>summons</td>\n",
       "    </tr>\n",
       "  </tbody>\n",
       "</table>\n",
       "</div>"
      ],
      "text/plain": [
       "         date    date_dt        county_name subject_race subject_sex  \\\n",
       "0  2009-07-01 2009-07-01  Stanislaus County        other        male   \n",
       "1  2009-07-01 2009-07-01  Stanislaus County     hispanic      female   \n",
       "2  2009-07-01 2009-07-01  Stanislaus County     hispanic      female   \n",
       "3  2009-07-01 2009-07-01  Stanislaus County        white      female   \n",
       "4  2009-07-01 2009-07-01  Stanislaus County     hispanic        male   \n",
       "\n",
       "  search_conducted search_basis  outcome  \n",
       "0            False    no_search  unknown  \n",
       "1            False    no_search  summons  \n",
       "2             True        other  summons  \n",
       "3            False    no_search  summons  \n",
       "4             True        other  summons  "
      ]
     },
     "execution_count": 4,
     "metadata": {},
     "output_type": "execute_result"
    }
   ],
   "source": [
    "df_ca.head()"
   ]
  },
  {
   "cell_type": "code",
   "execution_count": 5,
   "id": "3e392850-9657-4d5a-a853-b6b60c9e3b27",
   "metadata": {
    "colab": {
     "base_uri": "https://localhost:8080/"
    },
    "executionInfo": {
     "elapsed": 14744,
     "status": "ok",
     "timestamp": 1649406514920,
     "user": {
      "displayName": "Nicolas Delamaide",
      "userId": "10466721387330296433"
     },
     "user_tz": -120
    },
    "id": "3e392850-9657-4d5a-a853-b6b60c9e3b27",
    "outputId": "b828bd38-6d6d-41a1-c8eb-492e2979cc96"
   },
   "outputs": [
    {
     "name": "stdout",
     "output_type": "stream",
     "text": [
      "Los Angeles County        6008334\n",
      "San Diego County          2628782\n",
      "San Bernardino County     1974245\n",
      "Alameda County            1721328\n",
      "Orange County             1505389\n",
      "Kern County               1411456\n",
      "Santa Barbera County      1307485\n",
      "Sacramento County         1208623\n",
      "Riverside County          1143985\n",
      "Santa Clara County         663582\n",
      "Fresno County              626866\n",
      "Solano County              569870\n",
      "San Joaquin County         557653\n",
      "Imperial County            535851\n",
      "Monterey County            486202\n",
      "San Mateo County           467642\n",
      "Merced County              450324\n",
      "San Benito County          427617\n",
      "Riverside Coujnty          426655\n",
      "San Francisco County       425715\n",
      "Tulare County              418383\n",
      "Sonoma County              407141\n",
      "Contra Costa County        397764\n",
      "Marin County               367679\n",
      "Shasta County              331101\n",
      "San Luis Obispo County     312748\n",
      "Stanislaus County          309950\n",
      "Santa Cruz County          298053\n",
      "Siskyou County             291215\n",
      "Mendocino County           266524\n",
      "Tehama County              232009\n",
      "Butte County               228597\n",
      "Frenso County              226111\n",
      "Sierra County              204852\n",
      "Madera County              196052\n",
      "Nevada County              192884\n",
      "Placer County              180757\n",
      "Napa County                170578\n",
      "Sutter County              164779\n",
      "Kings County               163239\n",
      "El Dorado County           162584\n",
      "Yolo County                143808\n",
      "Humboldt County            137483\n",
      "Inyo County                134656\n",
      "Lassen County              123984\n",
      "Tuolumne County            111630\n",
      "Glenn County               110700\n",
      "Colusa County              105897\n",
      "Mono County                 99915\n",
      "Calaveras County            95746\n",
      "Alpine County               91944\n",
      "Amador County               87919\n",
      "Lake County                 86001\n",
      "Plumas County               72859\n",
      "Del Norte County            70827\n",
      "Trinity County              49532\n",
      "Mariposa County             46648\n",
      "Modoc County                43380\n",
      "Name: county_name, dtype: int64\n",
      "\n",
      "white                     14024423\n",
      "hispanic                  10499508\n",
      "black                      2601967\n",
      "other                      2383926\n",
      "asian/pacific islander     2173708\n",
      "Name: subject_race, dtype: int64\n",
      "\n",
      "male      22100300\n",
      "female     9583138\n",
      "Name: subject_sex, dtype: int64\n",
      "\n",
      "False    30610506\n",
      "True      1073027\n",
      "Name: search_conducted, dtype: int64\n",
      "\n",
      "no_search         30610506\n",
      "other              1026855\n",
      "probable cause       38829\n",
      "consent               7343\n",
      "Name: search_basis, dtype: int64\n",
      "\n",
      "summons     15238096\n",
      "unknown      9571360\n",
      "warning      5312529\n",
      "arrest        822714\n",
      "citation      738834\n",
      "Name: outcome, dtype: int64\n",
      "\n"
     ]
    }
   ],
   "source": [
    "for col in df_ca.columns:\n",
    "  if col not in [\"date\", \"date_dt\"]:\n",
    "    print(df_ca[col].value_counts())\n",
    "    print()"
   ]
  },
  {
   "cell_type": "code",
   "execution_count": 6,
   "id": "phAJ3hGB7uCf",
   "metadata": {
    "colab": {
     "base_uri": "https://localhost:8080/",
     "height": 332
    },
    "executionInfo": {
     "elapsed": 13626,
     "status": "ok",
     "timestamp": 1649406528540,
     "user": {
      "displayName": "Nicolas Delamaide",
      "userId": "10466721387330296433"
     },
     "user_tz": -120
    },
    "id": "phAJ3hGB7uCf",
    "outputId": "34cc04ab-2df2-4197-b096-3dd5ec2a83f6"
   },
   "outputs": [
    {
     "data": {
      "text/html": [
       "<div>\n",
       "<style scoped>\n",
       "    .dataframe tbody tr th:only-of-type {\n",
       "        vertical-align: middle;\n",
       "    }\n",
       "\n",
       "    .dataframe tbody tr th {\n",
       "        vertical-align: top;\n",
       "    }\n",
       "\n",
       "    .dataframe thead th {\n",
       "        text-align: right;\n",
       "    }\n",
       "</style>\n",
       "<table border=\"1\" class=\"dataframe\">\n",
       "  <thead>\n",
       "    <tr style=\"text-align: right;\">\n",
       "      <th></th>\n",
       "      <th>date</th>\n",
       "      <th>date_dt</th>\n",
       "      <th>county_name</th>\n",
       "      <th>subject_race</th>\n",
       "      <th>subject_sex</th>\n",
       "      <th>search_conducted</th>\n",
       "      <th>search_basis</th>\n",
       "      <th>outcome</th>\n",
       "    </tr>\n",
       "    <tr>\n",
       "      <th>date_dt</th>\n",
       "      <th></th>\n",
       "      <th></th>\n",
       "      <th></th>\n",
       "      <th></th>\n",
       "      <th></th>\n",
       "      <th></th>\n",
       "      <th></th>\n",
       "      <th></th>\n",
       "    </tr>\n",
       "  </thead>\n",
       "  <tbody>\n",
       "    <tr>\n",
       "      <th>2009</th>\n",
       "      <td>2494343</td>\n",
       "      <td>2494343</td>\n",
       "      <td>2494343</td>\n",
       "      <td>2494343</td>\n",
       "      <td>2494303</td>\n",
       "      <td>2494343</td>\n",
       "      <td>2494343</td>\n",
       "      <td>2494343</td>\n",
       "    </tr>\n",
       "    <tr>\n",
       "      <th>2010</th>\n",
       "      <td>5060321</td>\n",
       "      <td>5060321</td>\n",
       "      <td>5060321</td>\n",
       "      <td>5060320</td>\n",
       "      <td>5060266</td>\n",
       "      <td>5060321</td>\n",
       "      <td>5060321</td>\n",
       "      <td>5060321</td>\n",
       "    </tr>\n",
       "    <tr>\n",
       "      <th>2011</th>\n",
       "      <td>5047002</td>\n",
       "      <td>5047002</td>\n",
       "      <td>5047002</td>\n",
       "      <td>5047002</td>\n",
       "      <td>5047002</td>\n",
       "      <td>5047002</td>\n",
       "      <td>5047002</td>\n",
       "      <td>5047002</td>\n",
       "    </tr>\n",
       "    <tr>\n",
       "      <th>2012</th>\n",
       "      <td>4588924</td>\n",
       "      <td>4588924</td>\n",
       "      <td>4588924</td>\n",
       "      <td>4588924</td>\n",
       "      <td>4588924</td>\n",
       "      <td>4588924</td>\n",
       "      <td>4588924</td>\n",
       "      <td>4588924</td>\n",
       "    </tr>\n",
       "    <tr>\n",
       "      <th>2013</th>\n",
       "      <td>4415601</td>\n",
       "      <td>4415601</td>\n",
       "      <td>4415601</td>\n",
       "      <td>4415601</td>\n",
       "      <td>4415601</td>\n",
       "      <td>4415601</td>\n",
       "      <td>4415601</td>\n",
       "      <td>4415601</td>\n",
       "    </tr>\n",
       "    <tr>\n",
       "      <th>2014</th>\n",
       "      <td>4135931</td>\n",
       "      <td>4135931</td>\n",
       "      <td>4135931</td>\n",
       "      <td>4135931</td>\n",
       "      <td>4135931</td>\n",
       "      <td>4135931</td>\n",
       "      <td>4135931</td>\n",
       "      <td>4135931</td>\n",
       "    </tr>\n",
       "    <tr>\n",
       "      <th>2015</th>\n",
       "      <td>4027143</td>\n",
       "      <td>4027143</td>\n",
       "      <td>4027143</td>\n",
       "      <td>4027143</td>\n",
       "      <td>4027143</td>\n",
       "      <td>4027143</td>\n",
       "      <td>4027143</td>\n",
       "      <td>4027143</td>\n",
       "    </tr>\n",
       "    <tr>\n",
       "      <th>2016</th>\n",
       "      <td>1914268</td>\n",
       "      <td>1914268</td>\n",
       "      <td>1914268</td>\n",
       "      <td>1914268</td>\n",
       "      <td>1914268</td>\n",
       "      <td>1914268</td>\n",
       "      <td>1914268</td>\n",
       "      <td>1914268</td>\n",
       "    </tr>\n",
       "  </tbody>\n",
       "</table>\n",
       "</div>"
      ],
      "text/plain": [
       "            date  date_dt  county_name  subject_race  subject_sex  \\\n",
       "date_dt                                                             \n",
       "2009     2494343  2494343      2494343       2494343      2494303   \n",
       "2010     5060321  5060321      5060321       5060320      5060266   \n",
       "2011     5047002  5047002      5047002       5047002      5047002   \n",
       "2012     4588924  4588924      4588924       4588924      4588924   \n",
       "2013     4415601  4415601      4415601       4415601      4415601   \n",
       "2014     4135931  4135931      4135931       4135931      4135931   \n",
       "2015     4027143  4027143      4027143       4027143      4027143   \n",
       "2016     1914268  1914268      1914268       1914268      1914268   \n",
       "\n",
       "         search_conducted  search_basis  outcome  \n",
       "date_dt                                           \n",
       "2009              2494343       2494343  2494343  \n",
       "2010              5060321       5060321  5060321  \n",
       "2011              5047002       5047002  5047002  \n",
       "2012              4588924       4588924  4588924  \n",
       "2013              4415601       4415601  4415601  \n",
       "2014              4135931       4135931  4135931  \n",
       "2015              4027143       4027143  4027143  \n",
       "2016              1914268       1914268  1914268  "
      ]
     },
     "execution_count": 6,
     "metadata": {},
     "output_type": "execute_result"
    }
   ],
   "source": [
    "df_ca.groupby(df_ca.date_dt.dt.year).count()"
   ]
  },
  {
   "cell_type": "code",
   "execution_count": 7,
   "id": "8vXMpLmwHidk",
   "metadata": {
    "colab": {
     "base_uri": "https://localhost:8080/"
    },
    "executionInfo": {
     "elapsed": 1231,
     "status": "ok",
     "timestamp": 1649406530282,
     "user": {
      "displayName": "Nicolas Delamaide",
      "userId": "10466721387330296433"
     },
     "user_tz": -120
    },
    "id": "8vXMpLmwHidk",
    "outputId": "a0056e05-1d17-4117-b0d8-ddb8d66ea163"
   },
   "outputs": [
    {
     "data": {
      "text/plain": [
       "(58,)"
      ]
     },
     "execution_count": 7,
     "metadata": {},
     "output_type": "execute_result"
    }
   ],
   "source": [
    "df_ca.county_name.unique().shape"
   ]
  },
  {
   "cell_type": "markdown",
   "id": "BopJ9tKzPcXf",
   "metadata": {
    "id": "BopJ9tKzPcXf"
   },
   "source": [
    "## TX"
   ]
  },
  {
   "cell_type": "code",
   "execution_count": 8,
   "id": "ZnwS2v8_Phbv",
   "metadata": {
    "colab": {
     "base_uri": "https://localhost:8080/"
    },
    "executionInfo": {
     "elapsed": 6,
     "status": "ok",
     "timestamp": 1649406530284,
     "user": {
      "displayName": "Nicolas Delamaide",
      "userId": "10466721387330296433"
     },
     "user_tz": -120
    },
    "id": "ZnwS2v8_Phbv",
    "outputId": "08e4dec7-97e7-48d9-b9ed-1380c2cb7dd4"
   },
   "outputs": [
    {
     "name": "stdout",
     "output_type": "stream",
     "text": [
      "<class 'pandas.core.frame.DataFrame'>\n",
      "RangeIndex: 25225803 entries, 0 to 25225802\n",
      "Data columns (total 8 columns):\n",
      " #   Column            Dtype         \n",
      "---  ------            -----         \n",
      " 0   date              object        \n",
      " 1   date_dt           datetime64[ns]\n",
      " 2   county_name       object        \n",
      " 3   subject_race      object        \n",
      " 4   subject_sex       object        \n",
      " 5   search_conducted  object        \n",
      " 6   search_basis      object        \n",
      " 7   outcome           object        \n",
      "dtypes: datetime64[ns](1), object(7)\n",
      "memory usage: 1.5+ GB\n"
     ]
    }
   ],
   "source": [
    "df_tx.info()"
   ]
  },
  {
   "cell_type": "code",
   "execution_count": 9,
   "id": "AjWO6rMuK61l",
   "metadata": {
    "colab": {
     "base_uri": "https://localhost:8080/"
    },
    "executionInfo": {
     "elapsed": 8310,
     "status": "ok",
     "timestamp": 1649406540022,
     "user": {
      "displayName": "Nicolas Delamaide",
      "userId": "10466721387330296433"
     },
     "user_tz": -120
    },
    "id": "AjWO6rMuK61l",
    "outputId": "8d9f95e1-88e0-42ab-9b1e-117ab1d00e20"
   },
   "outputs": [
    {
     "name": "stdout",
     "output_type": "stream",
     "text": [
      "Hidalgo County       906303\n",
      "Harris County        667723\n",
      "Montgomery County    579636\n",
      "Cameron County       411815\n",
      "El Paso County       385367\n",
      "                      ...  \n",
      "Foard County           2384\n",
      "Lipscomb County        2219\n",
      "Kent County            1846\n",
      "Borden County          1333\n",
      "Loving County           202\n",
      "Name: county_name, Length: 254, dtype: int64\n",
      "\n",
      "white                     14440205\n",
      "hispanic                   7286405\n",
      "black                      2488330\n",
      "unknown                     597398\n",
      "asian/pacific islander      377323\n",
      "other                        36142\n",
      "Name: subject_race, dtype: int64\n",
      "\n",
      "male      17254281\n",
      "female     7971522\n",
      "Name: subject_sex, dtype: int64\n",
      "\n",
      "False    24682337\n",
      "True       543466\n",
      "Name: search_conducted, dtype: int64\n",
      "\n",
      "no_search         24682337\n",
      "consent             255410\n",
      "other               152179\n",
      "probable cause      135877\n",
      "Name: search_basis, dtype: int64\n",
      "\n",
      "warning     15797411\n",
      "citation     9428392\n",
      "Name: outcome, dtype: int64\n",
      "\n"
     ]
    }
   ],
   "source": [
    "for col in df_tx.columns:\n",
    "  if col not in [\"date\", \"date_dt\"]:\n",
    "    print(df_tx[col].value_counts())\n",
    "    print()"
   ]
  },
  {
   "cell_type": "code",
   "execution_count": 10,
   "id": "I3yytzG7KWco",
   "metadata": {
    "colab": {
     "base_uri": "https://localhost:8080/"
    },
    "executionInfo": {
     "elapsed": 9,
     "status": "ok",
     "timestamp": 1649406540023,
     "user": {
      "displayName": "Nicolas Delamaide",
      "userId": "10466721387330296433"
     },
     "user_tz": -120
    },
    "id": "I3yytzG7KWco",
    "outputId": "0264b6cc-89d2-4f39-c5cb-403e802c2bd9"
   },
   "outputs": [
    {
     "data": {
      "text/plain": [
       "(25225803, 8)"
      ]
     },
     "execution_count": 10,
     "metadata": {},
     "output_type": "execute_result"
    }
   ],
   "source": [
    "df_tx.shape"
   ]
  },
  {
   "cell_type": "code",
   "execution_count": 11,
   "id": "yRXL1F_--CmH",
   "metadata": {
    "executionInfo": {
     "elapsed": 5326,
     "status": "ok",
     "timestamp": 1649406545343,
     "user": {
      "displayName": "Nicolas Delamaide",
      "userId": "10466721387330296433"
     },
     "user_tz": -120
    },
    "id": "yRXL1F_--CmH"
   },
   "outputs": [],
   "source": [
    "## Filter TX so that we have same time range as CA (2009 - 2016)\n",
    "df_tx = df_tx[df_tx.date_dt.dt.year >= 2009]"
   ]
  },
  {
   "cell_type": "code",
   "execution_count": 12,
   "id": "MMiBEPr6-Vwb",
   "metadata": {
    "colab": {
     "base_uri": "https://localhost:8080/"
    },
    "executionInfo": {
     "elapsed": 10,
     "status": "ok",
     "timestamp": 1649406545345,
     "user": {
      "displayName": "Nicolas Delamaide",
      "userId": "10466721387330296433"
     },
     "user_tz": -120
    },
    "id": "MMiBEPr6-Vwb",
    "outputId": "68bdb784-1cab-450d-9b7a-ba9dba0ee6de"
   },
   "outputs": [
    {
     "data": {
      "text/plain": [
       "(17578339, 8)"
      ]
     },
     "execution_count": 12,
     "metadata": {},
     "output_type": "execute_result"
    }
   ],
   "source": [
    "df_tx.shape"
   ]
  },
  {
   "cell_type": "code",
   "execution_count": 13,
   "id": "bcTOlMWb784h",
   "metadata": {
    "colab": {
     "base_uri": "https://localhost:8080/",
     "height": 332
    },
    "executionInfo": {
     "elapsed": 7376,
     "status": "ok",
     "timestamp": 1649406552715,
     "user": {
      "displayName": "Nicolas Delamaide",
      "userId": "10466721387330296433"
     },
     "user_tz": -120
    },
    "id": "bcTOlMWb784h",
    "outputId": "a430c00b-c90e-45f6-8b22-5e2cd63ef4fe"
   },
   "outputs": [
    {
     "data": {
      "text/html": [
       "<div>\n",
       "<style scoped>\n",
       "    .dataframe tbody tr th:only-of-type {\n",
       "        vertical-align: middle;\n",
       "    }\n",
       "\n",
       "    .dataframe tbody tr th {\n",
       "        vertical-align: top;\n",
       "    }\n",
       "\n",
       "    .dataframe thead th {\n",
       "        text-align: right;\n",
       "    }\n",
       "</style>\n",
       "<table border=\"1\" class=\"dataframe\">\n",
       "  <thead>\n",
       "    <tr style=\"text-align: right;\">\n",
       "      <th></th>\n",
       "      <th>date</th>\n",
       "      <th>date_dt</th>\n",
       "      <th>county_name</th>\n",
       "      <th>subject_race</th>\n",
       "      <th>subject_sex</th>\n",
       "      <th>search_conducted</th>\n",
       "      <th>search_basis</th>\n",
       "      <th>outcome</th>\n",
       "    </tr>\n",
       "    <tr>\n",
       "      <th>date_dt</th>\n",
       "      <th></th>\n",
       "      <th></th>\n",
       "      <th></th>\n",
       "      <th></th>\n",
       "      <th></th>\n",
       "      <th></th>\n",
       "      <th></th>\n",
       "      <th></th>\n",
       "    </tr>\n",
       "  </thead>\n",
       "  <tbody>\n",
       "    <tr>\n",
       "      <th>2009</th>\n",
       "      <td>2441270</td>\n",
       "      <td>2441270</td>\n",
       "      <td>2441270</td>\n",
       "      <td>2441270</td>\n",
       "      <td>2441270</td>\n",
       "      <td>2441270</td>\n",
       "      <td>2441270</td>\n",
       "      <td>2441270</td>\n",
       "    </tr>\n",
       "    <tr>\n",
       "      <th>2010</th>\n",
       "      <td>2524704</td>\n",
       "      <td>2524704</td>\n",
       "      <td>2524704</td>\n",
       "      <td>2524704</td>\n",
       "      <td>2524704</td>\n",
       "      <td>2524704</td>\n",
       "      <td>2524704</td>\n",
       "      <td>2524704</td>\n",
       "    </tr>\n",
       "    <tr>\n",
       "      <th>2011</th>\n",
       "      <td>2587556</td>\n",
       "      <td>2587556</td>\n",
       "      <td>2587556</td>\n",
       "      <td>2587556</td>\n",
       "      <td>2587556</td>\n",
       "      <td>2587556</td>\n",
       "      <td>2587556</td>\n",
       "      <td>2587556</td>\n",
       "    </tr>\n",
       "    <tr>\n",
       "      <th>2012</th>\n",
       "      <td>2435070</td>\n",
       "      <td>2435070</td>\n",
       "      <td>2435070</td>\n",
       "      <td>2435070</td>\n",
       "      <td>2435070</td>\n",
       "      <td>2435070</td>\n",
       "      <td>2435070</td>\n",
       "      <td>2435070</td>\n",
       "    </tr>\n",
       "    <tr>\n",
       "      <th>2013</th>\n",
       "      <td>2133954</td>\n",
       "      <td>2133954</td>\n",
       "      <td>2133954</td>\n",
       "      <td>2133954</td>\n",
       "      <td>2133954</td>\n",
       "      <td>2133954</td>\n",
       "      <td>2133954</td>\n",
       "      <td>2133954</td>\n",
       "    </tr>\n",
       "    <tr>\n",
       "      <th>2014</th>\n",
       "      <td>1878458</td>\n",
       "      <td>1878458</td>\n",
       "      <td>1878458</td>\n",
       "      <td>1878458</td>\n",
       "      <td>1878458</td>\n",
       "      <td>1878458</td>\n",
       "      <td>1878458</td>\n",
       "      <td>1878458</td>\n",
       "    </tr>\n",
       "    <tr>\n",
       "      <th>2015</th>\n",
       "      <td>1745352</td>\n",
       "      <td>1745352</td>\n",
       "      <td>1745352</td>\n",
       "      <td>1745352</td>\n",
       "      <td>1745352</td>\n",
       "      <td>1745352</td>\n",
       "      <td>1745352</td>\n",
       "      <td>1745352</td>\n",
       "    </tr>\n",
       "    <tr>\n",
       "      <th>2016</th>\n",
       "      <td>1831975</td>\n",
       "      <td>1831975</td>\n",
       "      <td>1831975</td>\n",
       "      <td>1831975</td>\n",
       "      <td>1831975</td>\n",
       "      <td>1831975</td>\n",
       "      <td>1831975</td>\n",
       "      <td>1831975</td>\n",
       "    </tr>\n",
       "  </tbody>\n",
       "</table>\n",
       "</div>"
      ],
      "text/plain": [
       "            date  date_dt  county_name  subject_race  subject_sex  \\\n",
       "date_dt                                                             \n",
       "2009     2441270  2441270      2441270       2441270      2441270   \n",
       "2010     2524704  2524704      2524704       2524704      2524704   \n",
       "2011     2587556  2587556      2587556       2587556      2587556   \n",
       "2012     2435070  2435070      2435070       2435070      2435070   \n",
       "2013     2133954  2133954      2133954       2133954      2133954   \n",
       "2014     1878458  1878458      1878458       1878458      1878458   \n",
       "2015     1745352  1745352      1745352       1745352      1745352   \n",
       "2016     1831975  1831975      1831975       1831975      1831975   \n",
       "\n",
       "         search_conducted  search_basis  outcome  \n",
       "date_dt                                           \n",
       "2009              2441270       2441270  2441270  \n",
       "2010              2524704       2524704  2524704  \n",
       "2011              2587556       2587556  2587556  \n",
       "2012              2435070       2435070  2435070  \n",
       "2013              2133954       2133954  2133954  \n",
       "2014              1878458       1878458  1878458  \n",
       "2015              1745352       1745352  1745352  \n",
       "2016              1831975       1831975  1831975  "
      ]
     },
     "execution_count": 13,
     "metadata": {},
     "output_type": "execute_result"
    }
   ],
   "source": [
    "df_tx.groupby(df_tx.date_dt.dt.year).count()"
   ]
  },
  {
   "cell_type": "code",
   "execution_count": 14,
   "id": "Nla4FcueHqgA",
   "metadata": {
    "colab": {
     "base_uri": "https://localhost:8080/"
    },
    "executionInfo": {
     "elapsed": 1297,
     "status": "ok",
     "timestamp": 1649406554006,
     "user": {
      "displayName": "Nicolas Delamaide",
      "userId": "10466721387330296433"
     },
     "user_tz": -120
    },
    "id": "Nla4FcueHqgA",
    "outputId": "1341d302-52ea-4831-9b57-c3fa993b0605"
   },
   "outputs": [
    {
     "data": {
      "text/plain": [
       "(254,)"
      ]
     },
     "execution_count": 14,
     "metadata": {},
     "output_type": "execute_result"
    }
   ],
   "source": [
    "df_tx.county_name.unique().shape"
   ]
  },
  {
   "cell_type": "markdown",
   "id": "b5Y1O-jWg5pJ",
   "metadata": {
    "id": "b5Y1O-jWg5pJ"
   },
   "source": [
    "#Saving"
   ]
  },
  {
   "cell_type": "code",
   "execution_count": 23,
   "id": "fb960e47",
   "metadata": {},
   "outputs": [
    {
     "data": {
      "text/html": [
       "<div>\n",
       "<style scoped>\n",
       "    .dataframe tbody tr th:only-of-type {\n",
       "        vertical-align: middle;\n",
       "    }\n",
       "\n",
       "    .dataframe tbody tr th {\n",
       "        vertical-align: top;\n",
       "    }\n",
       "\n",
       "    .dataframe thead th {\n",
       "        text-align: right;\n",
       "    }\n",
       "</style>\n",
       "<table border=\"1\" class=\"dataframe\">\n",
       "  <thead>\n",
       "    <tr style=\"text-align: right;\">\n",
       "      <th></th>\n",
       "      <th>date</th>\n",
       "      <th>date_dt</th>\n",
       "      <th>county_name</th>\n",
       "      <th>subject_race</th>\n",
       "      <th>subject_sex</th>\n",
       "      <th>search_conducted</th>\n",
       "      <th>search_basis</th>\n",
       "      <th>outcome</th>\n",
       "    </tr>\n",
       "  </thead>\n",
       "  <tbody>\n",
       "    <tr>\n",
       "      <th>7647464</th>\n",
       "      <td>2009-01-01</td>\n",
       "      <td>2009-01-01</td>\n",
       "      <td>Bee County</td>\n",
       "      <td>white</td>\n",
       "      <td>female</td>\n",
       "      <td>False</td>\n",
       "      <td>no_search</td>\n",
       "      <td>warning</td>\n",
       "    </tr>\n",
       "    <tr>\n",
       "      <th>7647465</th>\n",
       "      <td>2009-01-01</td>\n",
       "      <td>2009-01-01</td>\n",
       "      <td>Harris County</td>\n",
       "      <td>white</td>\n",
       "      <td>male</td>\n",
       "      <td>False</td>\n",
       "      <td>no_search</td>\n",
       "      <td>warning</td>\n",
       "    </tr>\n",
       "    <tr>\n",
       "      <th>7647466</th>\n",
       "      <td>2009-01-01</td>\n",
       "      <td>2009-01-01</td>\n",
       "      <td>Zapata County</td>\n",
       "      <td>hispanic</td>\n",
       "      <td>male</td>\n",
       "      <td>False</td>\n",
       "      <td>no_search</td>\n",
       "      <td>citation</td>\n",
       "    </tr>\n",
       "    <tr>\n",
       "      <th>7647467</th>\n",
       "      <td>2009-01-01</td>\n",
       "      <td>2009-01-01</td>\n",
       "      <td>Val Verde County</td>\n",
       "      <td>hispanic</td>\n",
       "      <td>male</td>\n",
       "      <td>False</td>\n",
       "      <td>no_search</td>\n",
       "      <td>warning</td>\n",
       "    </tr>\n",
       "    <tr>\n",
       "      <th>7647468</th>\n",
       "      <td>2009-01-01</td>\n",
       "      <td>2009-01-01</td>\n",
       "      <td>Howard County</td>\n",
       "      <td>white</td>\n",
       "      <td>female</td>\n",
       "      <td>False</td>\n",
       "      <td>no_search</td>\n",
       "      <td>warning</td>\n",
       "    </tr>\n",
       "  </tbody>\n",
       "</table>\n",
       "</div>"
      ],
      "text/plain": [
       "               date    date_dt       county_name subject_race subject_sex  \\\n",
       "7647464  2009-01-01 2009-01-01        Bee County        white      female   \n",
       "7647465  2009-01-01 2009-01-01     Harris County        white        male   \n",
       "7647466  2009-01-01 2009-01-01     Zapata County     hispanic        male   \n",
       "7647467  2009-01-01 2009-01-01  Val Verde County     hispanic        male   \n",
       "7647468  2009-01-01 2009-01-01     Howard County        white      female   \n",
       "\n",
       "        search_conducted search_basis   outcome  \n",
       "7647464            False    no_search   warning  \n",
       "7647465            False    no_search   warning  \n",
       "7647466            False    no_search  citation  \n",
       "7647467            False    no_search   warning  \n",
       "7647468            False    no_search   warning  "
      ]
     },
     "execution_count": 23,
     "metadata": {},
     "output_type": "execute_result"
    }
   ],
   "source": [
    "df_tx.head()"
   ]
  },
  {
   "cell_type": "code",
   "execution_count": 26,
   "id": "f778f35b",
   "metadata": {},
   "outputs": [],
   "source": [
    "df_ca_sample = df_ca.sample(int(1e6))\n",
    "df_tx_sample = df_tx.sample(int(1e6))\n"
   ]
  },
  {
   "cell_type": "code",
   "execution_count": 27,
   "id": "0b48f14c",
   "metadata": {},
   "outputs": [],
   "source": [
    "df_ca_sample.to_pickle(\"data/ca_cleaned_sample.pkl\", compression= \"gzip\")\n",
    "df_tx_sample.to_pickle(\"data/tx_cleaned_sample.pkl\", compression= \"gzip\")\n"
   ]
  },
  {
   "cell_type": "code",
   "execution_count": null,
   "id": "36d823e1",
   "metadata": {},
   "outputs": [],
   "source": []
  }
 ],
 "metadata": {
  "colab": {
   "collapsed_sections": [],
   "machine_shape": "hm",
   "name": "data_exploration.ipynb",
   "provenance": []
  },
  "interpreter": {
   "hash": "c17a2f0c0e64c9a590fa3e64daeb0fdcc5a90ae85d642100fae3c7a79fe3dbac"
  },
  "kernelspec": {
   "display_name": "Python 3.8.12 ('ada')",
   "language": "python",
   "name": "python3"
  },
  "language_info": {
   "codemirror_mode": {
    "name": "ipython",
    "version": 3
   },
   "file_extension": ".py",
   "mimetype": "text/x-python",
   "name": "python",
   "nbconvert_exporter": "python",
   "pygments_lexer": "ipython3",
   "version": "3.8.12"
  }
 },
 "nbformat": 4,
 "nbformat_minor": 5
}
