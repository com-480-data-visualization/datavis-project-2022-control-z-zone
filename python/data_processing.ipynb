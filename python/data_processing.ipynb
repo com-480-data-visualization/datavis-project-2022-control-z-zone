{
 "cells": [
  {
   "cell_type": "code",
   "execution_count": 2,
   "metadata": {},
   "outputs": [],
   "source": [
    "import zipfile\n",
    "import pandas as pd"
   ]
  },
  {
   "cell_type": "code",
   "execution_count": 5,
   "metadata": {},
   "outputs": [],
   "source": [
    "df_ca = pd.read_pickle(\"data/ca_cleaned.pkl\", compression= \"gzip\")\n",
    "df_tx = pd.read_pickle(\"data/ca_cleaned.pkl\", compression = \"gzip\")"
   ]
  },
  {
   "cell_type": "code",
   "execution_count": 6,
   "metadata": {},
   "outputs": [
    {
     "data": {
      "text/html": [
       "<div>\n",
       "<style scoped>\n",
       "    .dataframe tbody tr th:only-of-type {\n",
       "        vertical-align: middle;\n",
       "    }\n",
       "\n",
       "    .dataframe tbody tr th {\n",
       "        vertical-align: top;\n",
       "    }\n",
       "\n",
       "    .dataframe thead th {\n",
       "        text-align: right;\n",
       "    }\n",
       "</style>\n",
       "<table border=\"1\" class=\"dataframe\">\n",
       "  <thead>\n",
       "    <tr style=\"text-align: right;\">\n",
       "      <th></th>\n",
       "      <th>date</th>\n",
       "      <th>date_dt</th>\n",
       "      <th>county_name</th>\n",
       "      <th>subject_race</th>\n",
       "      <th>subject_sex</th>\n",
       "      <th>search_conducted</th>\n",
       "      <th>search_basis</th>\n",
       "      <th>outcome</th>\n",
       "    </tr>\n",
       "  </thead>\n",
       "  <tbody>\n",
       "    <tr>\n",
       "      <th>0</th>\n",
       "      <td>2009-07-01</td>\n",
       "      <td>2009-07-01</td>\n",
       "      <td>Stanislaus County</td>\n",
       "      <td>other</td>\n",
       "      <td>male</td>\n",
       "      <td>False</td>\n",
       "      <td>no_search</td>\n",
       "      <td>unknown</td>\n",
       "    </tr>\n",
       "    <tr>\n",
       "      <th>1</th>\n",
       "      <td>2009-07-01</td>\n",
       "      <td>2009-07-01</td>\n",
       "      <td>Stanislaus County</td>\n",
       "      <td>hispanic</td>\n",
       "      <td>female</td>\n",
       "      <td>False</td>\n",
       "      <td>no_search</td>\n",
       "      <td>summons</td>\n",
       "    </tr>\n",
       "    <tr>\n",
       "      <th>2</th>\n",
       "      <td>2009-07-01</td>\n",
       "      <td>2009-07-01</td>\n",
       "      <td>Stanislaus County</td>\n",
       "      <td>hispanic</td>\n",
       "      <td>female</td>\n",
       "      <td>True</td>\n",
       "      <td>other</td>\n",
       "      <td>summons</td>\n",
       "    </tr>\n",
       "    <tr>\n",
       "      <th>3</th>\n",
       "      <td>2009-07-01</td>\n",
       "      <td>2009-07-01</td>\n",
       "      <td>Stanislaus County</td>\n",
       "      <td>white</td>\n",
       "      <td>female</td>\n",
       "      <td>False</td>\n",
       "      <td>no_search</td>\n",
       "      <td>summons</td>\n",
       "    </tr>\n",
       "    <tr>\n",
       "      <th>4</th>\n",
       "      <td>2009-07-01</td>\n",
       "      <td>2009-07-01</td>\n",
       "      <td>Stanislaus County</td>\n",
       "      <td>hispanic</td>\n",
       "      <td>male</td>\n",
       "      <td>True</td>\n",
       "      <td>other</td>\n",
       "      <td>summons</td>\n",
       "    </tr>\n",
       "  </tbody>\n",
       "</table>\n",
       "</div>"
      ],
      "text/plain": [
       "         date    date_dt        county_name subject_race subject_sex  \\\n",
       "0  2009-07-01 2009-07-01  Stanislaus County        other        male   \n",
       "1  2009-07-01 2009-07-01  Stanislaus County     hispanic      female   \n",
       "2  2009-07-01 2009-07-01  Stanislaus County     hispanic      female   \n",
       "3  2009-07-01 2009-07-01  Stanislaus County        white      female   \n",
       "4  2009-07-01 2009-07-01  Stanislaus County     hispanic        male   \n",
       "\n",
       "  search_conducted search_basis  outcome  \n",
       "0            False    no_search  unknown  \n",
       "1            False    no_search  summons  \n",
       "2             True        other  summons  \n",
       "3            False    no_search  summons  \n",
       "4             True        other  summons  "
      ]
     },
     "execution_count": 6,
     "metadata": {},
     "output_type": "execute_result"
    }
   ],
   "source": [
    "df_ca.head()"
   ]
  },
  {
   "cell_type": "code",
   "execution_count": 11,
   "metadata": {},
   "outputs": [],
   "source": [
    "df_ca[\"date\"] = pd.to_datetime(df_ca[\"date\"])"
   ]
  },
  {
   "cell_type": "code",
   "execution_count": 12,
   "metadata": {},
   "outputs": [],
   "source": [
    "df_ca[\"year\"] = df_ca[\"date\"].dt.year"
   ]
  },
  {
   "cell_type": "code",
   "execution_count": 25,
   "metadata": {},
   "outputs": [
    {
     "data": {
      "text/plain": [
       "year  county_name          subject_race          \n",
       "2009  Alameda County       asian/pacific islander    13886\n",
       "                           black                     20976\n",
       "                           hispanic                  25689\n",
       "                           other                     13071\n",
       "                           white                     40816\n",
       "      Alpine County        asian/pacific islander      341\n",
       "                           black                       125\n",
       "                           hispanic                    661\n",
       "                           other                       348\n",
       "                           white                      5630\n",
       "      Amador County        asian/pacific islander      377\n",
       "                           black                       184\n",
       "                           hispanic                    637\n",
       "                           other                       282\n",
       "                           white                      5532\n",
       "      Butte County         asian/pacific islander      479\n",
       "                           black                       487\n",
       "                           hispanic                   1844\n",
       "                           other                       520\n",
       "                           white                     14518\n",
       "      Calaveras County     asian/pacific islander      161\n",
       "                           black                       148\n",
       "                           hispanic                    662\n",
       "                           other                       164\n",
       "                           white                      8413\n",
       "      Colusa County        asian/pacific islander      257\n",
       "                           black                       278\n",
       "                           hispanic                   1392\n",
       "                           other                       425\n",
       "                           white                      5397\n",
       "      Contra Costa County  asian/pacific islander     1973\n",
       "                           black                      4992\n",
       "                           hispanic                   5564\n",
       "                           other                      2235\n",
       "                           white                     12804\n",
       "      Del Norte County     asian/pacific islander      104\n",
       "                           black                        35\n",
       "                           hispanic                    244\n",
       "                           other                       248\n",
       "                           white                      4821\n",
       "Name: date, dtype: int64"
      ]
     },
     "execution_count": 25,
     "metadata": {},
     "output_type": "execute_result"
    }
   ],
   "source": [
    "count_year_ethnicity = df_ca.groupby([\"year\", \"county_name\", \"subject_race\"]).count()[\"date\"]\n",
    "count_year_ethnicity.rename({\"date\": \"count\"}, inplace=True)\n",
    "\n",
    "count_year_ethnicity.head(40)\n"
   ]
  },
  {
   "cell_type": "code",
   "execution_count": 26,
   "metadata": {},
   "outputs": [
    {
     "data": {
      "text/plain": [
       "year  county_name          subject_sex\n",
       "2009  Alameda County       female          34786\n",
       "                           male            79651\n",
       "      Alpine County        female           1895\n",
       "                           male             5210\n",
       "      Amador County        female           2239\n",
       "                           male             4773\n",
       "      Butte County         female           6795\n",
       "                           male            11053\n",
       "      Calaveras County     female           3282\n",
       "                           male             6266\n",
       "      Colusa County        female           2400\n",
       "                           male             5349\n",
       "      Contra Costa County  female           9552\n",
       "                           male            18016\n",
       "      Del Norte County     female           1861\n",
       "                           male             3591\n",
       "      El Dorado County     female           4201\n",
       "                           male             8472\n",
       "      Frenso County        female           5197\n",
       "                           male            13968\n",
       "      Fresno County        female          14788\n",
       "                           male            34882\n",
       "      Glenn County         female           3224\n",
       "                           male             6680\n",
       "      Humboldt County      female           4675\n",
       "                           male             7919\n",
       "      Imperial County      female           9110\n",
       "                           male            29552\n",
       "      Inyo County          female           2557\n",
       "                           male             8356\n",
       "      Kern County          female          28031\n",
       "                           male            84853\n",
       "      Kings County         female           4087\n",
       "                           male             7922\n",
       "      Lake County          female           2639\n",
       "                           male             5041\n",
       "      Lassen County        female           2904\n",
       "                           male             7021\n",
       "      Los Angeles County   female         144806\n",
       "                           male           308960\n",
       "Name: date, dtype: int64"
      ]
     },
     "execution_count": 26,
     "metadata": {},
     "output_type": "execute_result"
    }
   ],
   "source": [
    "count_year_gender = df_ca.groupby([\"year\", \"county_name\", \"subject_sex\"]).count()[\"date\"]\n",
    "count_year_gender.rename({\"date\": \"count\"}, inplace=True)\n",
    "\n",
    "count_year_gender.head(40)"
   ]
  },
  {
   "cell_type": "code",
   "execution_count": 27,
   "metadata": {},
   "outputs": [
    {
     "data": {
      "text/plain": [
       "array(['unknown', 'summons', 'warning', 'citation', 'arrest'],\n",
       "      dtype=object)"
      ]
     },
     "execution_count": 27,
     "metadata": {},
     "output_type": "execute_result"
    }
   ],
   "source": [
    "df_ca.outcome.unique()"
   ]
  },
  {
   "cell_type": "code",
   "execution_count": 29,
   "metadata": {},
   "outputs": [],
   "source": [
    "count_year_ethnicity.to_pickle(\"data/count_year_ethnicity.pkl\", compression=\"gzip\")\n",
    "count_year_gender.to_pickle(\"data/count_year_gender.pkl\", compression=\"gzip\")\n"
   ]
  },
  {
   "cell_type": "code",
   "execution_count": 30,
   "metadata": {},
   "outputs": [],
   "source": [
    "test = pd.read_pickle(\"data/count_year_gender.pkl\", compression=\"gzip\")"
   ]
  },
  {
   "cell_type": "code",
   "execution_count": null,
   "metadata": {},
   "outputs": [],
   "source": [
    "sub_sample = pd.DataFrame(a).reset_index().query('year == 2009')\n",
    "sub_sample = sub_sample.query(\"subject_sex == 'female'\")\n",
    "sub_sample.head()"
   ]
  },
  {
   "cell_type": "code",
   "execution_count": null,
   "metadata": {},
   "outputs": [],
   "source": [
    "sub_sample.to_csv('arrest_2009_female_ca.csv')"
   ]
  }
 ],
 "metadata": {
  "interpreter": {
   "hash": "c17a2f0c0e64c9a590fa3e64daeb0fdcc5a90ae85d642100fae3c7a79fe3dbac"
  },
  "kernelspec": {
   "display_name": "Python 3.8.12 ('ada')",
   "language": "python",
   "name": "python3"
  },
  "language_info": {
   "codemirror_mode": {
    "name": "ipython",
    "version": 3
   },
   "file_extension": ".py",
   "mimetype": "text/x-python",
   "name": "python",
   "nbconvert_exporter": "python",
   "pygments_lexer": "ipython3",
   "version": "3.8.12"
  },
  "orig_nbformat": 4
 },
 "nbformat": 4,
 "nbformat_minor": 2
}
