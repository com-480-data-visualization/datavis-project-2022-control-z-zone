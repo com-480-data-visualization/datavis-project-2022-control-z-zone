{
 "cells": [
  {
   "cell_type": "code",
   "execution_count": 14,
   "metadata": {},
   "outputs": [],
   "source": [
    "import zipfile\n",
    "import pandas as pd"
   ]
  },
  {
   "cell_type": "markdown",
   "metadata": {},
   "source": [
    "# California"
   ]
  },
  {
   "cell_type": "code",
   "execution_count": 15,
   "metadata": {},
   "outputs": [],
   "source": [
    "df_ca = pd.read_pickle(\"../data/ca_cleaned.pkl\", compression= \"gzip\")"
   ]
  },
  {
   "cell_type": "code",
   "execution_count": 16,
   "metadata": {},
   "outputs": [
    {
     "data": {
      "text/html": [
       "<div>\n",
       "<style scoped>\n",
       "    .dataframe tbody tr th:only-of-type {\n",
       "        vertical-align: middle;\n",
       "    }\n",
       "\n",
       "    .dataframe tbody tr th {\n",
       "        vertical-align: top;\n",
       "    }\n",
       "\n",
       "    .dataframe thead th {\n",
       "        text-align: right;\n",
       "    }\n",
       "</style>\n",
       "<table border=\"1\" class=\"dataframe\">\n",
       "  <thead>\n",
       "    <tr style=\"text-align: right;\">\n",
       "      <th></th>\n",
       "      <th>date</th>\n",
       "      <th>date_dt</th>\n",
       "      <th>county_name</th>\n",
       "      <th>subject_race</th>\n",
       "      <th>subject_sex</th>\n",
       "      <th>search_conducted</th>\n",
       "      <th>search_basis</th>\n",
       "      <th>outcome</th>\n",
       "    </tr>\n",
       "  </thead>\n",
       "  <tbody>\n",
       "    <tr>\n",
       "      <th>0</th>\n",
       "      <td>2009-07-01</td>\n",
       "      <td>2009-07-01</td>\n",
       "      <td>Stanislaus County</td>\n",
       "      <td>other</td>\n",
       "      <td>male</td>\n",
       "      <td>False</td>\n",
       "      <td>no_search</td>\n",
       "      <td>unknown</td>\n",
       "    </tr>\n",
       "    <tr>\n",
       "      <th>1</th>\n",
       "      <td>2009-07-01</td>\n",
       "      <td>2009-07-01</td>\n",
       "      <td>Stanislaus County</td>\n",
       "      <td>hispanic</td>\n",
       "      <td>female</td>\n",
       "      <td>False</td>\n",
       "      <td>no_search</td>\n",
       "      <td>summons</td>\n",
       "    </tr>\n",
       "    <tr>\n",
       "      <th>2</th>\n",
       "      <td>2009-07-01</td>\n",
       "      <td>2009-07-01</td>\n",
       "      <td>Stanislaus County</td>\n",
       "      <td>hispanic</td>\n",
       "      <td>female</td>\n",
       "      <td>True</td>\n",
       "      <td>other</td>\n",
       "      <td>summons</td>\n",
       "    </tr>\n",
       "    <tr>\n",
       "      <th>3</th>\n",
       "      <td>2009-07-01</td>\n",
       "      <td>2009-07-01</td>\n",
       "      <td>Stanislaus County</td>\n",
       "      <td>white</td>\n",
       "      <td>female</td>\n",
       "      <td>False</td>\n",
       "      <td>no_search</td>\n",
       "      <td>summons</td>\n",
       "    </tr>\n",
       "    <tr>\n",
       "      <th>4</th>\n",
       "      <td>2009-07-01</td>\n",
       "      <td>2009-07-01</td>\n",
       "      <td>Stanislaus County</td>\n",
       "      <td>hispanic</td>\n",
       "      <td>male</td>\n",
       "      <td>True</td>\n",
       "      <td>other</td>\n",
       "      <td>summons</td>\n",
       "    </tr>\n",
       "  </tbody>\n",
       "</table>\n",
       "</div>"
      ],
      "text/plain": [
       "         date    date_dt        county_name subject_race subject_sex  \\\n",
       "0  2009-07-01 2009-07-01  Stanislaus County        other        male   \n",
       "1  2009-07-01 2009-07-01  Stanislaus County     hispanic      female   \n",
       "2  2009-07-01 2009-07-01  Stanislaus County     hispanic      female   \n",
       "3  2009-07-01 2009-07-01  Stanislaus County        white      female   \n",
       "4  2009-07-01 2009-07-01  Stanislaus County     hispanic        male   \n",
       "\n",
       "  search_conducted search_basis  outcome  \n",
       "0            False    no_search  unknown  \n",
       "1            False    no_search  summons  \n",
       "2             True        other  summons  \n",
       "3            False    no_search  summons  \n",
       "4             True        other  summons  "
      ]
     },
     "execution_count": 16,
     "metadata": {},
     "output_type": "execute_result"
    }
   ],
   "source": [
    "df_ca.head()"
   ]
  },
  {
   "cell_type": "code",
   "execution_count": 17,
   "metadata": {},
   "outputs": [],
   "source": [
    "df_ca[\"date\"] = pd.to_datetime(df_ca[\"date\"])"
   ]
  },
  {
   "cell_type": "code",
   "execution_count": 18,
   "metadata": {},
   "outputs": [],
   "source": [
    "df_ca[\"year\"] = df_ca[\"date\"].dt.year"
   ]
  },
  {
   "cell_type": "markdown",
   "metadata": {},
   "source": [
    "There are some spelling mistakes in county names and suffixe County to delete at the end of the string."
   ]
  },
  {
   "cell_type": "code",
   "execution_count": 19,
   "metadata": {},
   "outputs": [],
   "source": [
    "df_ca['county_name'] = df_ca['county_name'].str[:-7]\n",
    "df_ca['county_name'] = df_ca['county_name'].apply(lambda x : x.replace(\"Siskyou\", \"Siskiyou\"))\n",
    "df_ca['county_name'] = df_ca['county_name'].apply(lambda x : x.replace(\"Santa Barbera\", \"Santa Barbara\"))"
   ]
  },
  {
   "cell_type": "markdown",
   "metadata": {},
   "source": [
    "## Ethnicity"
   ]
  },
  {
   "cell_type": "code",
   "execution_count": 20,
   "metadata": {},
   "outputs": [
    {
     "data": {
      "text/html": [
       "<div>\n",
       "<style scoped>\n",
       "    .dataframe tbody tr th:only-of-type {\n",
       "        vertical-align: middle;\n",
       "    }\n",
       "\n",
       "    .dataframe tbody tr th {\n",
       "        vertical-align: top;\n",
       "    }\n",
       "\n",
       "    .dataframe thead th {\n",
       "        text-align: right;\n",
       "    }\n",
       "</style>\n",
       "<table border=\"1\" class=\"dataframe\">\n",
       "  <thead>\n",
       "    <tr style=\"text-align: right;\">\n",
       "      <th></th>\n",
       "      <th></th>\n",
       "      <th></th>\n",
       "      <th>count</th>\n",
       "    </tr>\n",
       "    <tr>\n",
       "      <th>year</th>\n",
       "      <th>county_name</th>\n",
       "      <th>subject_race</th>\n",
       "      <th></th>\n",
       "    </tr>\n",
       "  </thead>\n",
       "  <tbody>\n",
       "    <tr>\n",
       "      <th rowspan=\"10\" valign=\"top\">2009</th>\n",
       "      <th rowspan=\"5\" valign=\"top\">Alameda</th>\n",
       "      <th>asian/pacific islander</th>\n",
       "      <td>13886</td>\n",
       "    </tr>\n",
       "    <tr>\n",
       "      <th>black</th>\n",
       "      <td>20976</td>\n",
       "    </tr>\n",
       "    <tr>\n",
       "      <th>hispanic</th>\n",
       "      <td>25689</td>\n",
       "    </tr>\n",
       "    <tr>\n",
       "      <th>other</th>\n",
       "      <td>13071</td>\n",
       "    </tr>\n",
       "    <tr>\n",
       "      <th>white</th>\n",
       "      <td>40816</td>\n",
       "    </tr>\n",
       "    <tr>\n",
       "      <th rowspan=\"5\" valign=\"top\">Alpine</th>\n",
       "      <th>asian/pacific islander</th>\n",
       "      <td>341</td>\n",
       "    </tr>\n",
       "    <tr>\n",
       "      <th>black</th>\n",
       "      <td>125</td>\n",
       "    </tr>\n",
       "    <tr>\n",
       "      <th>hispanic</th>\n",
       "      <td>661</td>\n",
       "    </tr>\n",
       "    <tr>\n",
       "      <th>other</th>\n",
       "      <td>348</td>\n",
       "    </tr>\n",
       "    <tr>\n",
       "      <th>white</th>\n",
       "      <td>5630</td>\n",
       "    </tr>\n",
       "  </tbody>\n",
       "</table>\n",
       "</div>"
      ],
      "text/plain": [
       "                                         count\n",
       "year county_name subject_race                 \n",
       "2009 Alameda     asian/pacific islander  13886\n",
       "                 black                   20976\n",
       "                 hispanic                25689\n",
       "                 other                   13071\n",
       "                 white                   40816\n",
       "     Alpine      asian/pacific islander    341\n",
       "                 black                     125\n",
       "                 hispanic                  661\n",
       "                 other                     348\n",
       "                 white                    5630"
      ]
     },
     "execution_count": 20,
     "metadata": {},
     "output_type": "execute_result"
    }
   ],
   "source": [
    "count_year_ethnicity_ca = df_ca.groupby([\"year\", \"county_name\", \"subject_race\"]).count()[\"date\"]\n",
    "count_year_ethnicity_ca = pd.DataFrame(count_year_ethnicity_ca)\n",
    "count_year_ethnicity_ca = count_year_ethnicity_ca.rename(columns = {\"date\": \"nb_arrest\"})\n",
    "\n",
    "count_year_ethnicity_ca.head(10)\n"
   ]
  },
  {
   "cell_type": "code",
   "execution_count": 29,
   "metadata": {},
   "outputs": [],
   "source": [
    "count_year_ethnicity_ca = count_year_ethnicity_ca.reset_index()"
   ]
  },
  {
   "cell_type": "markdown",
   "metadata": {},
   "source": [
    "## Gender"
   ]
  },
  {
   "cell_type": "code",
   "execution_count": 21,
   "metadata": {},
   "outputs": [
    {
     "data": {
      "text/html": [
       "<div>\n",
       "<style scoped>\n",
       "    .dataframe tbody tr th:only-of-type {\n",
       "        vertical-align: middle;\n",
       "    }\n",
       "\n",
       "    .dataframe tbody tr th {\n",
       "        vertical-align: top;\n",
       "    }\n",
       "\n",
       "    .dataframe thead th {\n",
       "        text-align: right;\n",
       "    }\n",
       "</style>\n",
       "<table border=\"1\" class=\"dataframe\">\n",
       "  <thead>\n",
       "    <tr style=\"text-align: right;\">\n",
       "      <th></th>\n",
       "      <th></th>\n",
       "      <th></th>\n",
       "      <th>count</th>\n",
       "    </tr>\n",
       "    <tr>\n",
       "      <th>year</th>\n",
       "      <th>county_name</th>\n",
       "      <th>subject_sex</th>\n",
       "      <th></th>\n",
       "    </tr>\n",
       "  </thead>\n",
       "  <tbody>\n",
       "    <tr>\n",
       "      <th rowspan=\"10\" valign=\"top\">2009</th>\n",
       "      <th rowspan=\"2\" valign=\"top\">Alameda</th>\n",
       "      <th>female</th>\n",
       "      <td>34786</td>\n",
       "    </tr>\n",
       "    <tr>\n",
       "      <th>male</th>\n",
       "      <td>79651</td>\n",
       "    </tr>\n",
       "    <tr>\n",
       "      <th rowspan=\"2\" valign=\"top\">Alpine</th>\n",
       "      <th>female</th>\n",
       "      <td>1895</td>\n",
       "    </tr>\n",
       "    <tr>\n",
       "      <th>male</th>\n",
       "      <td>5210</td>\n",
       "    </tr>\n",
       "    <tr>\n",
       "      <th rowspan=\"2\" valign=\"top\">Amador</th>\n",
       "      <th>female</th>\n",
       "      <td>2239</td>\n",
       "    </tr>\n",
       "    <tr>\n",
       "      <th>male</th>\n",
       "      <td>4773</td>\n",
       "    </tr>\n",
       "    <tr>\n",
       "      <th rowspan=\"2\" valign=\"top\">Butte</th>\n",
       "      <th>female</th>\n",
       "      <td>6795</td>\n",
       "    </tr>\n",
       "    <tr>\n",
       "      <th>male</th>\n",
       "      <td>11053</td>\n",
       "    </tr>\n",
       "    <tr>\n",
       "      <th rowspan=\"2\" valign=\"top\">Calaveras</th>\n",
       "      <th>female</th>\n",
       "      <td>3282</td>\n",
       "    </tr>\n",
       "    <tr>\n",
       "      <th>male</th>\n",
       "      <td>6266</td>\n",
       "    </tr>\n",
       "  </tbody>\n",
       "</table>\n",
       "</div>"
      ],
      "text/plain": [
       "                              count\n",
       "year county_name subject_sex       \n",
       "2009 Alameda     female       34786\n",
       "                 male         79651\n",
       "     Alpine      female        1895\n",
       "                 male          5210\n",
       "     Amador      female        2239\n",
       "                 male          4773\n",
       "     Butte       female        6795\n",
       "                 male         11053\n",
       "     Calaveras   female        3282\n",
       "                 male          6266"
      ]
     },
     "execution_count": 21,
     "metadata": {},
     "output_type": "execute_result"
    }
   ],
   "source": [
    "count_year_gender_ca = df_ca.groupby([\"year\", \"county_name\", \"subject_sex\"]).count()[\"date\"]\n",
    "count_year_gender_ca = pd.DataFrame(count_year_gender_ca)\n",
    "count_year_gender_ca = count_year_gender_ca.rename(columns = {\"date\": \"nb_arrest\"})\n",
    "\n",
    "count_year_gender_ca.head(10)"
   ]
  },
  {
   "cell_type": "code",
   "execution_count": 28,
   "metadata": {},
   "outputs": [],
   "source": [
    "count_year_gender_ca = count_year_gender_ca.reset_index()"
   ]
  },
  {
   "cell_type": "code",
   "execution_count": 61,
   "metadata": {},
   "outputs": [],
   "source": [
    "count_year_ethnicity_ca.to_pickle(\"../data/count_year_ethnicity_ca.pkl\", compression=\"gzip\")\n",
    "count_year_gender_ca.to_pickle(\"../data/count_year_gender_ca.pkl\", compression=\"gzip\")\n"
   ]
  },
  {
   "cell_type": "markdown",
   "metadata": {},
   "source": [
    "# Population"
   ]
  },
  {
   "cell_type": "code",
   "execution_count": 43,
   "metadata": {},
   "outputs": [
    {
     "data": {
      "text/html": [
       "<div>\n",
       "<style scoped>\n",
       "    .dataframe tbody tr th:only-of-type {\n",
       "        vertical-align: middle;\n",
       "    }\n",
       "\n",
       "    .dataframe tbody tr th {\n",
       "        vertical-align: top;\n",
       "    }\n",
       "\n",
       "    .dataframe thead th {\n",
       "        text-align: right;\n",
       "    }\n",
       "</style>\n",
       "<table border=\"1\" class=\"dataframe\">\n",
       "  <thead>\n",
       "    <tr style=\"text-align: right;\">\n",
       "      <th></th>\n",
       "      <th>County</th>\n",
       "      <th>City</th>\n",
       "      <th>Incorportation_date</th>\n",
       "      <th>pop_april_1980</th>\n",
       "      <th>pop_april_1990</th>\n",
       "      <th>pop_april_2000</th>\n",
       "      <th>pop_april_2010</th>\n",
       "    </tr>\n",
       "  </thead>\n",
       "  <tbody>\n",
       "    <tr>\n",
       "      <th>0</th>\n",
       "      <td>San Bernardino</td>\n",
       "      <td>Adelanto</td>\n",
       "      <td>1970</td>\n",
       "      <td>2164.0</td>\n",
       "      <td>8517</td>\n",
       "      <td>18130</td>\n",
       "      <td>31765</td>\n",
       "    </tr>\n",
       "    <tr>\n",
       "      <th>1</th>\n",
       "      <td>Los Angeles</td>\n",
       "      <td>Agoura Hills</td>\n",
       "      <td>1982</td>\n",
       "      <td>NaN</td>\n",
       "      <td>20390</td>\n",
       "      <td>20537</td>\n",
       "      <td>20330</td>\n",
       "    </tr>\n",
       "    <tr>\n",
       "      <th>2</th>\n",
       "      <td>Alameda</td>\n",
       "      <td>Alameda</td>\n",
       "      <td>1854</td>\n",
       "      <td>63852.0</td>\n",
       "      <td>76459</td>\n",
       "      <td>72259</td>\n",
       "      <td>73812</td>\n",
       "    </tr>\n",
       "    <tr>\n",
       "      <th>3</th>\n",
       "      <td>Alameda</td>\n",
       "      <td>Albany</td>\n",
       "      <td>1908</td>\n",
       "      <td>15130.0</td>\n",
       "      <td>16327</td>\n",
       "      <td>16444</td>\n",
       "      <td>18539</td>\n",
       "    </tr>\n",
       "    <tr>\n",
       "      <th>4</th>\n",
       "      <td>Los Angeles</td>\n",
       "      <td>Alhambra</td>\n",
       "      <td>1903</td>\n",
       "      <td>64767.0</td>\n",
       "      <td>82106</td>\n",
       "      <td>85804</td>\n",
       "      <td>83089</td>\n",
       "    </tr>\n",
       "  </tbody>\n",
       "</table>\n",
       "</div>"
      ],
      "text/plain": [
       "           County          City Incorportation_date  pop_april_1980  \\\n",
       "0  San Bernardino      Adelanto                1970          2164.0   \n",
       "1     Los Angeles  Agoura Hills                1982             NaN   \n",
       "2         Alameda       Alameda                1854         63852.0   \n",
       "3         Alameda        Albany                1908         15130.0   \n",
       "4     Los Angeles      Alhambra                1903         64767.0   \n",
       "\n",
       "   pop_april_1990  pop_april_2000  pop_april_2010  \n",
       "0            8517           18130           31765  \n",
       "1           20390           20537           20330  \n",
       "2           76459           72259           73812  \n",
       "3           16327           16444           18539  \n",
       "4           82106           85804           83089  "
      ]
     },
     "execution_count": 43,
     "metadata": {},
     "output_type": "execute_result"
    }
   ],
   "source": [
    "population_ca = pd.read_csv('../data/population_ca.csv')\n",
    "population_ca.head()"
   ]
  },
  {
   "cell_type": "code",
   "execution_count": 44,
   "metadata": {},
   "outputs": [],
   "source": [
    "population_ca = population_ca.groupby('County')['pop_april_2010'].agg(['sum'])\n",
    "population_ca.rename(columns={'sum' : 'population'},inplace = True)\n",
    "relative_count_ethnicity_ca = pd.merge(count_year_ethnicity_ca, population_ca, left_on = 'county_name', right_on = 'County')\n",
    "relative_count_ethnicity_ca['relative_arrest'] = relative_count_ethnicity_ca['count'] / relative_count_ethnicity_ca['population']"
   ]
  },
  {
   "cell_type": "code",
   "execution_count": 65,
   "metadata": {},
   "outputs": [],
   "source": [
    "relative_count_gender_ca = pd.merge(count_year_gender_ca, population_ca, left_on = 'county_name', right_on = 'County')\n",
    "relative_count_gender_ca['relative_arrest'] = relative_count_gender_ca['count'] / relative_count_gender_ca['population']"
   ]
  },
  {
   "cell_type": "markdown",
   "metadata": {},
   "source": [
    "#### Ethni"
   ]
  },
  {
   "cell_type": "code",
   "execution_count": 59,
   "metadata": {},
   "outputs": [],
   "source": [
    "ethni_white_ca = relative_count_ethnicity_ca.query(\"subject_race == 'white'\")\n",
    "ethni_black_ca = relative_count_ethnicity_ca.query(\"subject_race == 'black'\")\n",
    "ethni_asian_ca = relative_count_ethnicity_ca.query(\"subject_race == 'asian/pacific islander'\")\n",
    "ethni_hispanic_ca = relative_count_ethnicity_ca.query(\"subject_race == 'hispanic'\")"
   ]
  },
  {
   "cell_type": "code",
   "execution_count": 60,
   "metadata": {},
   "outputs": [],
   "source": [
    "ethni_white_ca.to_csv('../data/arrest_white_ca.csv')\n",
    "ethni_black_ca.to_csv('../data/arrest_black_ca.csv')\n",
    "ethni_asian_ca.to_csv('../data/arrest_asian_ca.csv')\n",
    "ethni_hispanic_ca.to_csv('../data/arrest_hispanic_ca.csv')"
   ]
  },
  {
   "cell_type": "markdown",
   "metadata": {},
   "source": [
    "#### Gender"
   ]
  },
  {
   "cell_type": "code",
   "execution_count": 67,
   "metadata": {},
   "outputs": [],
   "source": [
    "female_ca = relative_count_gender_ca.query(\"subject_sex == 'female'\")\n",
    "male_ca = relative_count_gender_ca.query(\"subject_sex == 'male'\")"
   ]
  },
  {
   "cell_type": "code",
   "execution_count": 68,
   "metadata": {},
   "outputs": [],
   "source": [
    "female_ca.to_csv('../data/arrest_female_ca.csv')\n",
    "male_ca.to_csv('../data/arrest_male_ca.csv')"
   ]
  },
  {
   "cell_type": "markdown",
   "metadata": {},
   "source": [
    "-----"
   ]
  },
  {
   "cell_type": "markdown",
   "metadata": {},
   "source": [
    "# Texas"
   ]
  }
 ],
 "metadata": {
  "interpreter": {
   "hash": "ee784ad58132e9462f1f8cf86dca212ca28d7fa75053eeffe69366db508fdd8a"
  },
  "kernelspec": {
   "display_name": "Python 3.8.5 ('ada')",
   "language": "python",
   "name": "python3"
  },
  "language_info": {
   "codemirror_mode": {
    "name": "ipython",
    "version": 3
   },
   "file_extension": ".py",
   "mimetype": "text/x-python",
   "name": "python",
   "nbconvert_exporter": "python",
   "pygments_lexer": "ipython3",
   "version": "3.8.5"
  },
  "orig_nbformat": 4
 },
 "nbformat": 4,
 "nbformat_minor": 2
}
