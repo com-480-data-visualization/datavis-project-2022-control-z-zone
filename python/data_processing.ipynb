{
 "cells": [
  {
   "cell_type": "code",
   "execution_count": 2,
   "metadata": {},
   "outputs": [],
   "source": [
    "import zipfile\n",
    "import pandas as pd\n",
    "import warnings\n",
    "warnings.filterwarnings(\"ignore\")"
   ]
  },
  {
   "cell_type": "markdown",
   "metadata": {},
   "source": [
    "-----------"
   ]
  },
  {
   "cell_type": "markdown",
   "metadata": {},
   "source": [
    "# Pre-processing"
   ]
  },
  {
   "cell_type": "markdown",
   "metadata": {},
   "source": [
    "One we added our data on the map, we observed that there are some spelling mistakes in county names.\n",
    "So for this part we had to check State by State."
   ]
  },
  {
   "cell_type": "markdown",
   "metadata": {},
   "source": [
    "## California"
   ]
  },
  {
   "cell_type": "markdown",
   "metadata": {},
   "source": [
    "To be done only once that's why we commented it."
   ]
  },
  {
   "cell_type": "code",
   "execution_count": 14,
   "metadata": {},
   "outputs": [],
   "source": [
    "\"\"\"df_ca = pd.read_pickle(\"../data/ca_cleaned.pkl\", compression= \"gzip\")\n",
    "df_ca['county_name'] = df_ca['county_name'].apply(lambda x : x.replace(\"Siskyou County\", \"Siskiyou County\"))\n",
    "df_ca['county_name'] = df_ca['county_name'].apply(lambda x : x.replace(\"Santa Barbera County\", \"Santa Barbara County\"))\n",
    "df_ca.to_pickle(\"../data/ca_cleaned.pkl\", compression= \"gzip\")\"\"\""
   ]
  },
  {
   "cell_type": "markdown",
   "metadata": {},
   "source": [
    "--------------"
   ]
  },
  {
   "cell_type": "markdown",
   "metadata": {},
   "source": [
    "# Data processing"
   ]
  },
  {
   "cell_type": "markdown",
   "metadata": {},
   "source": [
    "## Creation of data by Ethnicity and Gender or each county "
   ]
  },
  {
   "cell_type": "code",
   "execution_count": 6,
   "metadata": {},
   "outputs": [],
   "source": [
    "def pre_process(path):\n",
    "    df = pd.read_pickle(path, compression= \"gzip\")\n",
    "    df[\"date\"] = pd.to_datetime(df[\"date\"])\n",
    "    df[\"year\"] = df[\"date\"].dt.year\n",
    "    df['county_name'] = df['county_name'].str[:-7]\n",
    "    return df\n",
    "\n",
    "def count_year_one_state(df, object = 'ethnicity'):\n",
    "    if object == 'ethnicity':\n",
    "        count_year = df.groupby([\"year\", \"county_name\", \"subject_race\"]).count()[\"date\"]\n",
    "        count_year = pd.DataFrame(count_year)\n",
    "        count_year = count_year.rename(columns = {\"date\": \"nb_arrest\"})\n",
    "        count_year = count_year.reset_index()\n",
    "    else:\n",
    "        count_year = df.groupby([\"year\", \"county_name\", \"subject_sex\"]).count()[\"date\"]\n",
    "        count_year = pd.DataFrame(count_year)\n",
    "        count_year = count_year.rename(columns = {\"date\": \"nb_arrest\"})\n",
    "        count_year = count_year.reset_index()\n",
    "        \n",
    "    return count_year\n",
    "\n",
    "def load_population(state):\n",
    "    population = pd.read_csv('../data/us_county.csv')\n",
    "    population = population.query(\"state == state\")\n",
    "    population.drop(['fips','female_percentage','long','lat','median_age','state_code','state'], axis = 1, inplace = True)\n",
    "    population['county'] = population['county'].str[:-7]\n",
    "    return population\n",
    "\n",
    "def relative_arrest_computation(df_state, population, object='ethnicity'):\n",
    "    if(object == 'ethnicity'):\n",
    "        relative_arrest = pd.merge(df_state, population, left_on = 'county_name', right_on = 'county').drop(['county'], axis = 1)\n",
    "        relative_arrest['relative_arrest'] = relative_arrest['nb_arrest'] / relative_arrest['population']\n",
    "    else:\n",
    "        relative_arrest = pd.merge(df_state, population, left_on = 'county_name', right_on = 'county').drop(['county'], axis = 1)\n",
    "        relative_arrest_female = relative_arrest.query(\"subject_sex == 'female'\")\n",
    "        relative_arrest_female['relative_arrest'] = relative_arrest_female['nb_arrest'] / relative_arrest_female['female']\n",
    "        relative_arrest_male = relative_arrest.query(\"subject_sex == 'male'\")\n",
    "        relative_arrest_male['relative_arrest'] = relative_arrest_male['nb_arrest'] / relative_arrest_male['male']\n",
    "        relative_arrest = pd.concat([relative_arrest_female, relative_arrest_male])\n",
    "\n",
    "    return relative_arrest\n",
    "\n",
    "def create_df_one_year(path, state):\n",
    "    df = pre_process(path)\n",
    "    count_year_ethnicity = count_year_one_state(df)\n",
    "    count_year_gender = count_year_one_state(df, object = 'gender')\n",
    "    population = load_population(state)\n",
    "    df_ethnicity = relative_arrest_computation(count_year_ethnicity, population)\n",
    "    df_ethnicity['state'] = state\n",
    "    df_gender = relative_arrest_computation(count_year_gender, population, object='gender')\n",
    "    df_gender['state'] = state\n",
    "\n",
    "    return df_ethnicity, df_gender"
   ]
  },
  {
   "cell_type": "code",
   "execution_count": 15,
   "metadata": {},
   "outputs": [],
   "source": [
    "df_ethnicity_ca, df_gender_ca = create_df_one_year(\"../data/ca_cleaned.pkl\", 'California')"
   ]
  },
  {
   "cell_type": "code",
   "execution_count": 16,
   "metadata": {},
   "outputs": [],
   "source": [
    "df_ethnicity_tx, df_gender_tx = create_df_one_year(\"../data/tx_cleaned.pkl\", 'Texas')"
   ]
  },
  {
   "cell_type": "code",
   "execution_count": 17,
   "metadata": {},
   "outputs": [],
   "source": [
    "arrest_ethnicity = pd.concat([df_ethnicity_ca, df_ethnicity_tx])\n",
    "arrest_gender = pd.concat([df_gender_ca, df_gender_tx])\n",
    "arrest_ethnicity.to_csv('../data/arrest_ethnicity.csv')\n",
    "arrest_gender.to_csv('../data/arrest_gender.csv')"
   ]
  },
  {
   "cell_type": "markdown",
   "metadata": {
    "tags": []
   },
   "source": [
    "## Creation of data frame by Ethnicity and gender for each state"
   ]
  },
  {
   "cell_type": "code",
   "execution_count": 42,
   "metadata": {},
   "outputs": [],
   "source": [
    "def pre_process_by_state(path, state):\n",
    "    df = pd.read_pickle(path, compression= \"gzip\")\n",
    "    df[\"date\"] = pd.to_datetime(df[\"date\"])\n",
    "    df[\"year\"] = df[\"date\"].dt.year\n",
    "    df['county_name'] = df['county_name'].str[:-7]\n",
    "    df['state']  = state\n",
    "    return df\n",
    "\n",
    "def all_arrest_one_state(df):\n",
    "    count_year = df.groupby([\"year\"]).count()[\"date\"]\n",
    "    count_year = pd.DataFrame(count_year)\n",
    "    count_year = count_year.rename(columns = {\"date\": \"nb_arrest_state\"})\n",
    "    count_year = count_year.reset_index()\n",
    "    return count_year\n",
    "\n",
    "def all_arrest_one_state_by_object(df, object = 'ethnicity'):\n",
    "    if object == 'ethnicity':\n",
    "        count_year_by_state = df.groupby([\"year\", \"state\", \"subject_race\"]).count()[\"date\"]\n",
    "        count_year_by_state = pd.DataFrame(count_year_by_state)\n",
    "        count_year_by_state = count_year_by_state.rename(columns = {\"date\": \"nb_arrest\"})\n",
    "        count_year_by_state = count_year_by_state.reset_index()\n",
    "    else:\n",
    "        count_year_by_state = df.groupby([\"year\", \"state\", \"subject_sex\"]).count()[\"date\"]\n",
    "        count_year_by_state = pd.DataFrame(count_year_by_state)\n",
    "        count_year_by_state = count_year_by_state.rename(columns = {\"date\": \"nb_arrest\"})\n",
    "        count_year_by_state = count_year_by_state.reset_index()\n",
    "        \n",
    "    return count_year_by_state\n",
    "\n",
    "def compute_percentage(count_year, count_year_by_state):\n",
    "    df = pd.merge(left= count_year_by_state, right=count_year, left_on='year', right_on='year')\n",
    "    df['percentage'] = df['nb_arrest'] / df['nb_arrest_state'] *100\n",
    "    return df\n",
    "        \n",
    "def create_df_one_year_by_state(path, state):\n",
    "    df = pre_process_by_state(path, state)\n",
    "    count_year = all_arrest_one_state(df)\n",
    "    count_year_by_state_ethnicity = all_arrest_one_state_by_object(df)\n",
    "    count_year_by_state_gender = all_arrest_one_state_by_object(df, object = 'gender')\n",
    "    df_ethnicity = compute_percentage(count_year, count_year_by_state_ethnicity)\n",
    "    df_gender = compute_percentage(count_year, count_year_by_state_gender)\n",
    "    return df_ethnicity, df_gender"
   ]
  },
  {
   "cell_type": "code",
   "execution_count": 43,
   "metadata": {},
   "outputs": [],
   "source": [
    "df_ca_ethnicity, df_ca_gender = create_df_one_year_by_state(\"../data/ca_cleaned.pkl\", 'ca')\n",
    "df_tx_ethnicity, df_tx_gender = create_df_one_year_by_state(\"../data/tx_cleaned.pkl\", 'tx')"
   ]
  },
  {
   "cell_type": "code",
   "execution_count": 35,
   "metadata": {},
   "outputs": [
    {
     "data": {
      "text/html": [
       "<div>\n",
       "<style scoped>\n",
       "    .dataframe tbody tr th:only-of-type {\n",
       "        vertical-align: middle;\n",
       "    }\n",
       "\n",
       "    .dataframe tbody tr th {\n",
       "        vertical-align: top;\n",
       "    }\n",
       "\n",
       "    .dataframe thead th {\n",
       "        text-align: right;\n",
       "    }\n",
       "</style>\n",
       "<table border=\"1\" class=\"dataframe\">\n",
       "  <thead>\n",
       "    <tr style=\"text-align: right;\">\n",
       "      <th></th>\n",
       "      <th>year</th>\n",
       "      <th>state</th>\n",
       "      <th>subject_race</th>\n",
       "      <th>nb_arrest</th>\n",
       "      <th>nb_arrest_state</th>\n",
       "      <th>percentage</th>\n",
       "    </tr>\n",
       "  </thead>\n",
       "  <tbody>\n",
       "    <tr>\n",
       "      <th>0</th>\n",
       "      <td>2009</td>\n",
       "      <td>ca</td>\n",
       "      <td>asian/pacific islander</td>\n",
       "      <td>163572</td>\n",
       "      <td>2494343</td>\n",
       "      <td>0.065577</td>\n",
       "    </tr>\n",
       "    <tr>\n",
       "      <th>1</th>\n",
       "      <td>2009</td>\n",
       "      <td>ca</td>\n",
       "      <td>black</td>\n",
       "      <td>199846</td>\n",
       "      <td>2494343</td>\n",
       "      <td>0.080120</td>\n",
       "    </tr>\n",
       "    <tr>\n",
       "      <th>2</th>\n",
       "      <td>2009</td>\n",
       "      <td>ca</td>\n",
       "      <td>hispanic</td>\n",
       "      <td>798562</td>\n",
       "      <td>2494343</td>\n",
       "      <td>0.320149</td>\n",
       "    </tr>\n",
       "    <tr>\n",
       "      <th>3</th>\n",
       "      <td>2009</td>\n",
       "      <td>ca</td>\n",
       "      <td>other</td>\n",
       "      <td>164346</td>\n",
       "      <td>2494343</td>\n",
       "      <td>0.065887</td>\n",
       "    </tr>\n",
       "    <tr>\n",
       "      <th>4</th>\n",
       "      <td>2009</td>\n",
       "      <td>ca</td>\n",
       "      <td>white</td>\n",
       "      <td>1168017</td>\n",
       "      <td>2494343</td>\n",
       "      <td>0.468266</td>\n",
       "    </tr>\n",
       "  </tbody>\n",
       "</table>\n",
       "</div>"
      ],
      "text/plain": [
       "   year state            subject_race  nb_arrest  nb_arrest_state  percentage\n",
       "0  2009    ca  asian/pacific islander     163572          2494343    0.065577\n",
       "1  2009    ca                   black     199846          2494343    0.080120\n",
       "2  2009    ca                hispanic     798562          2494343    0.320149\n",
       "3  2009    ca                   other     164346          2494343    0.065887\n",
       "4  2009    ca                   white    1168017          2494343    0.468266"
      ]
     },
     "execution_count": 35,
     "metadata": {},
     "output_type": "execute_result"
    }
   ],
   "source": [
    "df_ca_ethnicity.head()"
   ]
  },
  {
   "cell_type": "code",
   "execution_count": 44,
   "metadata": {},
   "outputs": [],
   "source": [
    "count_ethnicity_state = pd.concat([df_ca_ethnicity, df_tx_ethnicity]).reset_index(drop=True)\n",
    "count_ethnicity_state.to_csv('../data/count_ethnicity_state.csv')"
   ]
  },
  {
   "cell_type": "code",
   "execution_count": 45,
   "metadata": {},
   "outputs": [],
   "source": [
    "count_gender_state = pd.concat([df_ca_gender, df_tx_gender]).reset_index(drop=True)\n",
    "count_gender_state.to_csv('../data/count_gender_state.csv')"
   ]
  },
  {
   "cell_type": "code",
   "execution_count": null,
   "metadata": {},
   "outputs": [],
   "source": []
  }
 ],
 "metadata": {
  "interpreter": {
   "hash": "ee784ad58132e9462f1f8cf86dca212ca28d7fa75053eeffe69366db508fdd8a"
  },
  "kernelspec": {
   "display_name": "Python 3 (ipykernel)",
   "language": "python",
   "name": "python3"
  },
  "language_info": {
   "codemirror_mode": {
    "name": "ipython",
    "version": 3
   },
   "file_extension": ".py",
   "mimetype": "text/x-python",
   "name": "python",
   "nbconvert_exporter": "python",
   "pygments_lexer": "ipython3",
   "version": "3.8.5"
  }
 },
 "nbformat": 4,
 "nbformat_minor": 4
}
