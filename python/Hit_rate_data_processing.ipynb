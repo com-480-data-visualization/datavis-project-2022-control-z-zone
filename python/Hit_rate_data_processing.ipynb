{
 "cells": [
  {
   "cell_type": "code",
   "execution_count": 22,
   "metadata": {},
   "outputs": [],
   "source": [
    "import pandas as pd\n",
    "import warnings\n",
    "import glob\n",
    "import os\n",
    "warnings.filterwarnings(\"ignore\")"
   ]
  },
  {
   "cell_type": "code",
   "execution_count": 48,
   "metadata": {},
   "outputs": [],
   "source": [
    "def compute_hit_rate_ethnicity(path, county, city):    \n",
    "    df = pd.read_csv(path, compression = 'zip')\n",
    "    df_searched = df.query(\"search_conducted == True\")\n",
    "    df_searched[\"date\"] = pd.to_datetime(df_searched[\"date\"])\n",
    "    df_searched[\"year\"] = df_searched[\"date\"].dt.year\n",
    "    df_searched_cleaned = df_searched[['year', 'subject_race', 'subject_sex', 'search_conducted', 'contraband_found']]\n",
    "    found = pd.DataFrame(df_searched_cleaned.groupby(['year', 'subject_race'])['contraband_found'].value_counts()).rename(columns={'contraband_found' : 'nb_find'}).reset_index()\n",
    "    all = pd.DataFrame(df_searched_cleaned.groupby(['year', 'subject_race'])['search_conducted'].value_counts()).rename(columns={'search_conducted' : 'nb_search'}).reset_index()\n",
    "    found_and_all = pd.merge(left = found, right = all, left_on=['year','subject_race'], right_on = ['year', 'subject_race']).drop(['search_conducted'], axis = 1)\n",
    "    found_and_all['Hit_rate'] = found_and_all['nb_find'] / found_and_all['nb_search'] * 100\n",
    "    found_and_all['County'] = county\n",
    "    found_and_all['City'] = city\n",
    "    return found_and_all.query('contraband_found == True')"
   ]
  },
  {
   "cell_type": "code",
   "execution_count": 50,
   "metadata": {},
   "outputs": [],
   "source": [
    "all_city = compute_hit_rate_ethnicity('..\\data\\city\\ca_oakland.csv.zip', 'California', 'Oakland')"
   ]
  },
  {
   "cell_type": "markdown",
   "metadata": {},
   "source": [
    "Done on all the file"
   ]
  },
  {
   "cell_type": "code",
   "execution_count": 69,
   "metadata": {},
   "outputs": [],
   "source": [
    "new_df = compute_hit_rate_ethnicity('../data/city/tx_san_antonio.csv.zip', 'Texas', 'San Antonio')"
   ]
  },
  {
   "cell_type": "code",
   "execution_count": 70,
   "metadata": {},
   "outputs": [],
   "source": [
    "all_city = pd.concat([all_city, new_df])"
   ]
  },
  {
   "cell_type": "code",
   "execution_count": 72,
   "metadata": {},
   "outputs": [],
   "source": [
    "all_city.to_csv('../data/city/all_hit_rate_ethnicity')"
   ]
  },
  {
   "cell_type": "code",
   "execution_count": null,
   "metadata": {},
   "outputs": [],
   "source": []
  }
 ],
 "metadata": {
  "interpreter": {
   "hash": "ee784ad58132e9462f1f8cf86dca212ca28d7fa75053eeffe69366db508fdd8a"
  },
  "kernelspec": {
   "display_name": "Python 3.8.5 ('ada')",
   "language": "python",
   "name": "python3"
  },
  "language_info": {
   "codemirror_mode": {
    "name": "ipython",
    "version": 3
   },
   "file_extension": ".py",
   "mimetype": "text/x-python",
   "name": "python",
   "nbconvert_exporter": "python",
   "pygments_lexer": "ipython3",
   "version": "3.8.5"
  },
  "orig_nbformat": 4
 },
 "nbformat": 4,
 "nbformat_minor": 2
}
