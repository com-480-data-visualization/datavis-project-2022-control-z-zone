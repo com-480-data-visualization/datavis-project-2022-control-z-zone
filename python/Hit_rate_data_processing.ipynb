{
 "cells": [
  {
   "cell_type": "code",
   "execution_count": 48,
   "metadata": {},
   "outputs": [],
   "source": [
    "import pandas as pd\n",
    "import warnings\n",
    "import glob\n",
    "from os import path\n",
    "warnings.filterwarnings(\"ignore\")"
   ]
  },
  {
   "cell_type": "code",
   "execution_count": 64,
   "metadata": {},
   "outputs": [],
   "source": [
    "def get_files_name(path_to_files):\n",
    "    names = []\n",
    "    for file in glob.glob(path_to_files):\n",
    "        names.append(path.splitext(path.basename(file))[0])\n",
    "    return names\n",
    "\n",
    "def load_data(path):\n",
    "    df = pd.read_csv(path, compression= \"zip\")\n",
    "    df_searched = df.query(\"search_conducted == True\")\n",
    "    df_searched[\"date\"] = pd.to_datetime(df_searched[\"date\"])\n",
    "    df_searched[\"year\"] = df_searched[\"date\"].dt.year\n",
    "    df_searched = df_searched.query('year >= 2009 and year <= 2016')\n",
    "    #df_searched['county_name'] = df_searched['county_name'].str[:-7]\n",
    "    return df_searched\n",
    "\n",
    "def compute_hit_rate_one_object(df, county, city, object = 'ethnicity'):    \n",
    "    if object == 'ethnicity':\n",
    "        df_searched_cleaned = df[['year', 'subject_race', 'search_conducted', 'contraband_found']]\n",
    "        df_searched_cleaned = df_searched_cleaned.query(\"subject_race == 'white' | subject_race == 'black'| subject_race == 'asian/pacific islander'\\\n",
    "            | subject_race == 'hispanic'\")\n",
    "        found = pd.DataFrame(df_searched_cleaned.groupby(['year', 'subject_race'])['contraband_found'].value_counts()).rename(columns={'contraband_found' : 'nb_find'}).reset_index()\n",
    "        all = pd.DataFrame(df_searched_cleaned.groupby(['year', 'subject_race'])['search_conducted'].value_counts()).rename(columns={'search_conducted' : 'nb_search'}).reset_index()\n",
    "        found_and_all = pd.merge(left = found, right = all, left_on=['year','subject_race'], right_on = ['year', 'subject_race']).drop(['search_conducted'], axis = 1)\n",
    "        found_and_all['Hit_rate'] = found_and_all['nb_find'] / found_and_all['nb_search'] * 100\n",
    "        found_and_all['County'] = county\n",
    "        found_and_all['City'] = city\n",
    "    else :\n",
    "        df_searched_cleaned = df[['year', 'subject_sex', 'search_conducted', 'contraband_found']]\n",
    "        found = pd.DataFrame(df_searched_cleaned.groupby(['year', 'subject_sex'])['contraband_found'].value_counts()).rename(columns={'contraband_found' : 'nb_find'}).reset_index()\n",
    "        all = pd.DataFrame(df_searched_cleaned.groupby(['year', 'subject_sex'])['search_conducted'].value_counts()).rename(columns={'search_conducted' : 'nb_search'}).reset_index()\n",
    "        found_and_all = pd.merge(left = found, right = all, left_on=['year','subject_sex'], right_on = ['year', 'subject_sex']).drop(['search_conducted'], axis = 1)\n",
    "        found_and_all['Hit_rate'] = found_and_all['nb_find'] / found_and_all['nb_search'] * 100\n",
    "        found_and_all['County'] = county\n",
    "        found_and_all['City'] = city\n",
    "        \n",
    "    return found_and_all.query('contraband_found == True')\n",
    "\n",
    "def compute_hit_rate_one_city(path,county, city):\n",
    "    df = load_data('../data/city/'+path +'.zip')\n",
    "    df_ethnicity = compute_hit_rate_one_object(df,county,city)\n",
    "    df_gender = compute_hit_rate_one_object(df,county,city, object = 'gender')\n",
    "    return df_ethnicity, df_gender\n",
    "\n",
    "def compute_hit_rate_multiple_cities(path_to_folder):\n",
    "    file_names = get_files_name(path_to_folder)\n",
    "    hit_rate_ethnicity, hit_rate_gender = compute_hit_rate_one_city(file_names[0], file_names[0][0:2], file_names[0][3:-4]) \n",
    "    for i in range(1,len(file_names)):\n",
    "        new_city_ethnicity, new_city_gender = compute_hit_rate_one_city(file_names[i],file_names[i][0:2] , file_names[0][3:-4])\n",
    "        hit_rate_ethnicity = pd.concat([hit_rate_ethnicity, new_city_ethnicity])\n",
    "        hit_rate_gender = pd.concat([hit_rate_gender, new_city_gender])\n",
    "    return hit_rate_ethnicity, hit_rate_gender\n",
    "\n",
    "def filter_not_duplicate(df, object = 'ethni'):\n",
    "    if object == 'ethni':\n",
    "        dupli = pd.DataFrame(df.groupby(['year'])['subject_race'].value_counts()).rename(columns={'subject_race' : 'dupli'}).reset_index()\n",
    "        test = pd.merge(left=df, right=dupli, left_on = ['year','subject_race'], right_on = ['year', 'subject_race'])\n",
    "        df = test.query('dupli == 2')\n",
    "    else :\n",
    "        dupli = pd.DataFrame(df.groupby(['year'])['subject_sex'].value_counts()).rename(columns={'subject_sex' : 'dupli'}).reset_index()\n",
    "        test = pd.merge(left=df, right=dupli, left_on = ['year','subject_sex'], right_on = ['year', 'subject_sex'])\n",
    "        test = test.query('dupli == 2')\n",
    "    return df\n",
    "\n",
    "def compute_mean_hit_rate_by_state(path_to_folder):\n",
    "    hit_rate_ethnicity, hit_rate_gender = compute_hit_rate_multiple_cities(path_to_folder)\n",
    "    all_city_gender_mean_hit_rate = hit_rate_gender.groupby(['year', 'subject_sex', 'County'])['Hit_rate'].agg(['mean']).reset_index()\n",
    "    all_city_gender_mean_search_count = hit_rate_gender.groupby(['year', 'subject_sex'])['nb_search'].agg(['sum']).reset_index()\n",
    "    hit_rate_gender_mean = pd.merge(all_city_gender_mean_hit_rate, all_city_gender_mean_search_count, left_on=['year', 'subject_sex'], right_on=['year', 'subject_sex'])\n",
    "    all_city_ethnicity_mean_hit_rate = hit_rate_ethnicity.groupby(['year', 'subject_race', 'County'])['Hit_rate'].agg(['mean']).reset_index()\n",
    "    all_city_ethnicity_mean_search_count = hit_rate_ethnicity.groupby(['year', 'subject_race'])['nb_search'].agg(['sum']).reset_index()\n",
    "    hit_rate_ethnicity_mean = pd.merge(all_city_ethnicity_mean_hit_rate, all_city_ethnicity_mean_search_count, left_on=['year', 'subject_race'], right_on=['year', 'subject_race'])\n",
    "    return filter_not_duplicate(hit_rate_ethnicity_mean), filter_not_duplicate(hit_rate_gender_mean, object = 'gender')\\\n",
    "        , filter_not_duplicate(hit_rate_ethnicity), filter_not_duplicate(hit_rate_gender, object = 'gender')\n"
   ]
  },
  {
   "cell_type": "code",
   "execution_count": 65,
   "metadata": {},
   "outputs": [],
   "source": [
    "hit_rate_ethnicity_mean, hit_rate_gender_mean, hit_rate_ethnicity, hit_rate_gender = compute_mean_hit_rate_by_state('../data/city/*.csv.zip')"
   ]
  },
  {
   "cell_type": "code",
   "execution_count": 70,
   "metadata": {},
   "outputs": [],
   "source": [
    "hit_rate_ethnicity.to_csv('../data/city/all_hit_rate_ethnicity.csv')\n",
    "hit_rate_gender.to_csv('../data/city/all_hit_rate_gender.csv')\n",
    "hit_rate_ethnicity_mean.to_csv('../data/city/all_hit_rate_ethnicity_mean.csv')\n",
    "hit_rate_gender_mean.to_csv('../data/city/all_hit_rate_gender_mean.csv')"
   ]
  },
  {
   "cell_type": "code",
   "execution_count": null,
   "metadata": {},
   "outputs": [],
   "source": []
  }
 ],
 "metadata": {
  "interpreter": {
   "hash": "ee784ad58132e9462f1f8cf86dca212ca28d7fa75053eeffe69366db508fdd8a"
  },
  "kernelspec": {
   "display_name": "Python 3.8.5 ('ada')",
   "language": "python",
   "name": "python3"
  },
  "language_info": {
   "codemirror_mode": {
    "name": "ipython",
    "version": 3
   },
   "file_extension": ".py",
   "mimetype": "text/x-python",
   "name": "python",
   "nbconvert_exporter": "python",
   "pygments_lexer": "ipython3",
   "version": "3.8.5"
  },
  "orig_nbformat": 4
 },
 "nbformat": 4,
 "nbformat_minor": 2
}
